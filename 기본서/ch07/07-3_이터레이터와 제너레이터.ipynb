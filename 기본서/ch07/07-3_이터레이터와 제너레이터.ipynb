{
 "cells": [
  {
   "attachments": {},
   "cell_type": "markdown",
   "metadata": {},
   "source": [
    "## 07-3 이터레이터와 제너레이터"
   ]
  },
  {
   "attachments": {},
   "cell_type": "markdown",
   "metadata": {},
   "source": [
    "다음은 늘 사용하던 리스트의 간단한 사용법이다.\n",
    "```python\n",
    "for a in [1, 2, 3]:\n",
    "    print(a)\n",
    "리스트 [1, 2, 3] 을 for문으로 차례대로 하나씩 출력하는 예제이다. 이렇게 for문과 같은 반복 구문을 적용할 수 있는 리스트와 같은 객체를 반복 가능(iterable) 객체라 한다.\n",
    "\n",
    "반복 가능한 객체에는 리스트, 튜플, 딕셔너리, 집합등이 있다."
   ]
  },
  {
   "attachments": {},
   "cell_type": "markdown",
   "metadata": {},
   "source": [
    "### 이터레이터란?\n",
    "그렇다면 이터레이터(iterator)란 무엇일까? 이터레이터는 next() 함수 호출 시 계속 그다음 값을 리턴하는 객체이다. 리스트는 반복 가능(iterable)하다는 것을 이미 알아보았다. 그렇다면 리스트는 이터레이터일까? 다음과 같이 확인해 보자."
   ]
  },
  {
   "cell_type": "code",
   "execution_count": 1,
   "metadata": {},
   "outputs": [
    {
     "ename": "TypeError",
     "evalue": "'list' object is not an iterator",
     "output_type": "error",
     "traceback": [
      "\u001b[0;31m---------------------------------------------------------------------------\u001b[0m",
      "\u001b[0;31mTypeError\u001b[0m                                 Traceback (most recent call last)",
      "Cell \u001b[0;32mIn[1], line 2\u001b[0m\n\u001b[1;32m      1\u001b[0m a \u001b[39m=\u001b[39m [\u001b[39m1\u001b[39m,\u001b[39m2\u001b[39m,\u001b[39m3\u001b[39m]\n\u001b[0;32m----> 2\u001b[0m \u001b[39mnext\u001b[39;49m(a)\n",
      "\u001b[0;31mTypeError\u001b[0m: 'list' object is not an iterator"
     ]
    }
   ],
   "source": [
    "a = [1,2,3]\n",
    "next(a)"
   ]
  },
  {
   "attachments": {},
   "cell_type": "markdown",
   "metadata": {},
   "source": [
    "a라는 리스트로 next() 함수를 호출했더니 리스트는 이터레이터 객체가 아니라는 오류가 발생한다. 즉, 반복 가능하다고 해서 이터레이터는 아니라는 말이다. 하지만, 반복 가능하다면 다음과 같이 iter() 함수를 이용하여 이터레이터로 만들 수 있다.\n",
    "\n"
   ]
  },
  {
   "cell_type": "code",
   "execution_count": 7,
   "metadata": {},
   "outputs": [
    {
     "data": {
      "text/plain": [
       "list_iterator"
      ]
     },
     "execution_count": 7,
     "metadata": {},
     "output_type": "execute_result"
    }
   ],
   "source": [
    "a = [1,2,3]\n",
    "ia = iter(a)\n",
    "type(ia)"
   ]
  },
  {
   "attachments": {},
   "cell_type": "markdown",
   "metadata": {},
   "source": [
    "이제 리스트를 이터레이터로 변경했으므로 next() 함수를 호출해 보자."
   ]
  },
  {
   "cell_type": "code",
   "execution_count": 8,
   "metadata": {},
   "outputs": [
    {
     "data": {
      "text/plain": [
       "1"
      ]
     },
     "execution_count": 8,
     "metadata": {},
     "output_type": "execute_result"
    }
   ],
   "source": [
    "next(ia)"
   ]
  },
  {
   "cell_type": "code",
   "execution_count": 9,
   "metadata": {},
   "outputs": [
    {
     "data": {
      "text/plain": [
       "2"
      ]
     },
     "execution_count": 9,
     "metadata": {},
     "output_type": "execute_result"
    }
   ],
   "source": [
    "next(ia)"
   ]
  },
  {
   "cell_type": "code",
   "execution_count": 10,
   "metadata": {},
   "outputs": [
    {
     "data": {
      "text/plain": [
       "3"
      ]
     },
     "execution_count": 10,
     "metadata": {},
     "output_type": "execute_result"
    }
   ],
   "source": [
    "next(ia)"
   ]
  },
  {
   "cell_type": "code",
   "execution_count": 11,
   "metadata": {},
   "outputs": [
    {
     "ename": "StopIteration",
     "evalue": "",
     "output_type": "error",
     "traceback": [
      "\u001b[0;31m---------------------------------------------------------------------------\u001b[0m",
      "\u001b[0;31mStopIteration\u001b[0m                             Traceback (most recent call last)",
      "Cell \u001b[0;32mIn[11], line 1\u001b[0m\n\u001b[0;32m----> 1\u001b[0m \u001b[39mnext\u001b[39;49m(ia)\n",
      "\u001b[0;31mStopIteration\u001b[0m: "
     ]
    }
   ],
   "source": [
    "next(ia)"
   ]
  },
  {
   "attachments": {},
   "cell_type": "markdown",
   "metadata": {},
   "source": [
    "next() 함수를 호출할 때마다 이터레이터 객체의 요소를 차례대로 리턴하는 것을 확인할 수 있다. 하지만, 더는 리턴할 값이 없다면 StopIteration 예외가 발생한다. 이터레이터의 값을 가져오는 가장 일반적인 방법은 다음과 같이 for문을 이용하는 것이다.\n",
    "\n"
   ]
  },
  {
   "cell_type": "code",
   "execution_count": 14,
   "metadata": {},
   "outputs": [
    {
     "name": "stdout",
     "output_type": "stream",
     "text": [
      "1\n",
      "2\n",
      "3\n"
     ]
    }
   ],
   "source": [
    "a = [1, 2, 3]\n",
    "ia = iter(a)\n",
    "for i in ia:\n",
    "    print(i)"
   ]
  },
  {
   "attachments": {},
   "cell_type": "markdown",
   "metadata": {},
   "source": [
    "for문을 이용하면 next() 함수를 따로 호출할 필요도 없고(for문이 자동으로 호출) StopIteration 예외에 신경 쓸 필요도 없다. 이번에는 다음과 같은 예를 보자."
   ]
  },
  {
   "cell_type": "code",
   "execution_count": 15,
   "metadata": {},
   "outputs": [
    {
     "name": "stdout",
     "output_type": "stream",
     "text": [
      "1\n",
      "2\n",
      "3\n"
     ]
    }
   ],
   "source": [
    "a = [1, 2, 3]\n",
    "ia = iter(a)\n",
    "for i in ia:\n",
    "    print(i)\n",
    "    \n",
    "for i in ia:\n",
    "    print(i)"
   ]
  },
  {
   "attachments": {},
   "cell_type": "markdown",
   "metadata": {},
   "source": [
    "이처럼 이터레이터는 for문을 이용하여 반복하고 난 후에는 다시 반복하더라도 더는 그 값을 가져오지 못한다. 즉, next()로 그 값을 한 번 읽으면 그 값을 다시는 읽을 수 없다는 특징이 있다."
   ]
  },
  {
   "attachments": {},
   "cell_type": "markdown",
   "metadata": {},
   "source": [
    "### 이터레이터 만들기\n",
    "```python\n",
    "iter() 함수를 이용하면 리스트를 이터레이터로 만들 수 있었다. 이번에는 iter() 함수 대신 클래스로 이터레이터를 만들어보자. 이터레이터는 클래스에 __iter__와 __next__라는 두 개의 메서드를 구현하여 만들 수 있다. 다음 예를 살펴보자."
   ]
  },
  {
   "cell_type": "code",
   "execution_count": 17,
   "metadata": {},
   "outputs": [
    {
     "name": "stdout",
     "output_type": "stream",
     "text": [
      "1\n",
      "2\n",
      "3\n"
     ]
    }
   ],
   "source": [
    "class MyIterator:\n",
    "    def __init__(self, data):\n",
    "        self.data = data\n",
    "        self.position = 0\n",
    "        \n",
    "    def __iter__(self):\n",
    "        return self\n",
    "    \n",
    "    def __next__(self):\n",
    "        if self.position >= len(self.data):\n",
    "            raise StopIteration\n",
    "        result = self.data[self.position]\n",
    "        self.position = self.position + 1\n",
    "        return result\n",
    "    \n",
    "if __name__ == \"__main__\":\n",
    "    i = MyIterator([1,2,3])\n",
    "    for item in i:\n",
    "        print(item)"
   ]
  },
  {
   "attachments": {},
   "cell_type": "markdown",
   "metadata": {},
   "source": [
    "```python\n",
    "MyIterator 클래스는 이터레이터 객체를 생성하기 위해 __iter__ 메서드와 __next__ 메서드를 구현했다. __iter__ 메서드와 __next__ 메서드는 생성자 __init__ 메서드와 마찬가지로 클래스에서 특별한 의미를 갖는 메서드이다. 클래스에 __iter__ 메서드를 구현하면 해당 클래스로 생성한 객체는 반복가능한 객체가 된다. __iter__ 메서드는 반복 가능한 객체를 리턴해야 하며 보통 클래스의 객체를 의미하는 self를 리턴한다. 그리고 클래스에 __iter__ 메서드를 구현할 경우 반드시 __next__ 함수를 구현해야 한다. __next__ 메서드는 반복 가능한 객체의 값을 차례대로 반환하는 역할을 한다. __next__ 메서드는 for문을 수행하거나 next() 함수 호출 시 수행되므로 MyIterator 객체 생성 시 전달한 data를 하나씩 리턴하도록 하고 더는 리턴할 값이 없으면 StopIteration 예외를 발생시키도록 구현했다.\n",
    "\n",
    "이 코드를 실행하면 다음과 같은 결과를 확인할 수 있다.\n",
    "\n",
    "1  \n",
    "2  \n",
    "3  "
   ]
  },
  {
   "attachments": {},
   "cell_type": "markdown",
   "metadata": {},
   "source": [
    "이번에는 입력받은 데이터를 역순으로 출력하는 ReverseIterator 클래스를 만들어 보자(설명은 앞의 MyIterator와 마찬가지이므로 생략한다)."
   ]
  },
  {
   "cell_type": "code",
   "execution_count": 18,
   "metadata": {},
   "outputs": [
    {
     "name": "stdout",
     "output_type": "stream",
     "text": [
      "3\n",
      "2\n",
      "1\n"
     ]
    }
   ],
   "source": [
    "class RevrseIterator:\n",
    "    def __init__(self, data):\n",
    "        self.data = data\n",
    "        self.position = len(self.data) - 1\n",
    "        \n",
    "    def __iter__(self):\n",
    "        return self\n",
    "    \n",
    "    def __next__(self):\n",
    "        if self.position < 0:\n",
    "            raise StopIteration\n",
    "        result = self.data[self.position]\n",
    "        self.position -= 1\n",
    "        return result\n",
    "    \n",
    "if __name__ == \"__main__\":\n",
    "    i = RevrseIterator([1, 2, 3])\n",
    "    for item in i:\n",
    "        print(item)\n",
    "    "
   ]
  },
  {
   "attachments": {},
   "cell_type": "markdown",
   "metadata": {},
   "source": [
    "이를 실행하면 다음과 같이 입력받은 데이터를 역순으로 출력한다."
   ]
  },
  {
   "attachments": {},
   "cell_type": "markdown",
   "metadata": {},
   "source": [
    "### 제너레이터란?\n",
    "제너레이터(generator)는 이터레이터를 생성해 주는 함수이다. 제너레이터로 생성한 객체는 이터레이터와 마찬가지로 next() 함수 호출 시 그 값을 차례대로 얻을 수 있다. 이때 제너레이터에서는 차례대로 결과를 반환하고자 return 대신 yield 키워드를 사용한다.\n",
    "\n",
    "가장 간단한 제너레이터의 예를 살펴보자."
   ]
  },
  {
   "cell_type": "code",
   "execution_count": 19,
   "metadata": {},
   "outputs": [],
   "source": [
    "def mygen():\n",
    "    yield 'a'\n",
    "    yield 'b'\n",
    "    yield 'c'\n",
    "    \n",
    "g = mygen()"
   ]
  },
  {
   "attachments": {},
   "cell_type": "markdown",
   "metadata": {},
   "source": [
    "mygen() 함수는 yield 구문을 포함하므로 제너레이터이다. 제너레이터 객체는 g = mygen()과 같이 제너레이터를 호출하여 만들 수 있다. type 명령어로 확인하면 g 객체는 제너레이터 타입의 객체임을 알 수 있다."
   ]
  },
  {
   "cell_type": "code",
   "execution_count": 21,
   "metadata": {},
   "outputs": [
    {
     "data": {
      "text/plain": [
       "generator"
      ]
     },
     "execution_count": 21,
     "metadata": {},
     "output_type": "execute_result"
    }
   ],
   "source": [
    "type(g)"
   ]
  },
  {
   "attachments": {},
   "cell_type": "markdown",
   "metadata": {},
   "source": [
    "이제 다음과 같이 제너레이터로 반환된 g의 값을 차례대로 얻어 보자."
   ]
  },
  {
   "cell_type": "code",
   "execution_count": 22,
   "metadata": {},
   "outputs": [
    {
     "data": {
      "text/plain": [
       "'a'"
      ]
     },
     "execution_count": 22,
     "metadata": {},
     "output_type": "execute_result"
    }
   ],
   "source": [
    "next(g)"
   ]
  },
  {
   "cell_type": "code",
   "execution_count": 23,
   "metadata": {},
   "outputs": [
    {
     "data": {
      "text/plain": [
       "'b'"
      ]
     },
     "execution_count": 23,
     "metadata": {},
     "output_type": "execute_result"
    }
   ],
   "source": [
    "next(g)"
   ]
  },
  {
   "cell_type": "code",
   "execution_count": 24,
   "metadata": {},
   "outputs": [
    {
     "data": {
      "text/plain": [
       "'c'"
      ]
     },
     "execution_count": 24,
     "metadata": {},
     "output_type": "execute_result"
    }
   ],
   "source": [
    "next(g)"
   ]
  },
  {
   "cell_type": "code",
   "execution_count": 25,
   "metadata": {},
   "outputs": [
    {
     "ename": "StopIteration",
     "evalue": "",
     "output_type": "error",
     "traceback": [
      "\u001b[0;31m---------------------------------------------------------------------------\u001b[0m",
      "\u001b[0;31mStopIteration\u001b[0m                             Traceback (most recent call last)",
      "Cell \u001b[0;32mIn[25], line 1\u001b[0m\n\u001b[0;32m----> 1\u001b[0m \u001b[39mnext\u001b[39;49m(g)\n",
      "\u001b[0;31mStopIteration\u001b[0m: "
     ]
    }
   ],
   "source": [
    "next(g)"
   ]
  },
  {
   "attachments": {},
   "cell_type": "markdown",
   "metadata": {},
   "source": [
    "이처럼 객체 g로 next() 함수를 실행하면 mygen() 함수의 첫 번째 yield 문에 따라 'a' 값을 리턴한다. 여기서 재밌는 점은 제너레이터는 yield라는 문장을 만나면 그 값을 리턴하되 현재 상태를 그대로 기억한다는 점이다. 이건 마치 음악을 재생하다가 일시 정지 버튼으로 멈춘 것과 비슷한 모양새이다.\n",
    "\n",
    "다시 next() 함수를 실행해 보자.\n",
    "\n",
    "이번에는 두 번째 yield문에 따라 'b' 값을 리턴한다. 계속해서 next() 함수를 호출하면 다음과 같은 결과가 출력될 것이다."
   ]
  },
  {
   "attachments": {},
   "cell_type": "markdown",
   "metadata": {},
   "source": [
    "mygen() 함수에는 총 3개의 yield문이 있으므로 4번째 next()를 호출할 때는 더는 리턴할 값이 없으므로 StopIteration 예외가 발생한다."
   ]
  },
  {
   "attachments": {},
   "cell_type": "markdown",
   "metadata": {},
   "source": [
    "### 제너레이터 표현식\n",
    "이번에는 다음과 같은 예를 보자."
   ]
  },
  {
   "cell_type": "code",
   "execution_count": 28,
   "metadata": {},
   "outputs": [
    {
     "name": "stdout",
     "output_type": "stream",
     "text": [
      "1\n",
      "4\n",
      "9\n"
     ]
    }
   ],
   "source": [
    "def mygen():\n",
    "    for i in range(1, 1000):\n",
    "        result = i * i\n",
    "        yield result\n",
    "\n",
    "gen = mygen()\n",
    "\n",
    "print(next(gen))\n",
    "print(next(gen))\n",
    "print(next(gen)) "
   ]
  },
  {
   "attachments": {},
   "cell_type": "markdown",
   "metadata": {},
   "source": [
    "mygen() 함수는 1부터 1,000까지 각각의 숫자를 제곱한 값을 순서대로 리턴하는 제너레이터이다. 이 예제를 실행하면 총 3번의 next()를 호출하므로 다음과 같은 결과가 나올 것이다.\n",
    "\n"
   ]
  },
  {
   "attachments": {},
   "cell_type": "markdown",
   "metadata": {},
   "source": [
    "너레이터는 def를 이용한 함수로 만들 수 있지만, 다음과 같이 튜플 표현식으로 좀 더 간단하게 만들 수도 있다.\n"
   ]
  },
  {
   "cell_type": "code",
   "execution_count": 29,
   "metadata": {},
   "outputs": [],
   "source": [
    "gen = (i * i for i in range(1, 1000))"
   ]
  },
  {
   "cell_type": "code",
   "execution_count": 30,
   "metadata": {},
   "outputs": [
    {
     "name": "stdout",
     "output_type": "stream",
     "text": [
      "1\n",
      "4\n",
      "9\n"
     ]
    }
   ],
   "source": [
    "print(next(gen))\n",
    "print(next(gen))\n",
    "print(next(gen)) "
   ]
  },
  {
   "attachments": {},
   "cell_type": "markdown",
   "metadata": {},
   "source": [
    "이 표현식은 mygen() 함수로 만든 제너레이터와 완전히 똑같이 기능한다. 여기서 사용한 표현식은 리스트 컴프리헨션(list comprehension) 구문과 비슷하다. 다만 리스트 대신 튜플을 이용한 점이 다르다. 이와 같은 표현식을 제너레이터 표현식(generator expression)이라 부른다."
   ]
  },
  {
   "attachments": {},
   "cell_type": "markdown",
   "metadata": {},
   "source": [
    "### 제너레이터와 이터레이터\n",
    "지금까지 살펴본 제너레이터는 이터레이터와 서로 상당히 비슷하다는 것을 알 수 있다. 클래스를 이용하여 이터레이터를 작성하면 좀 더 복잡한 행동을 하게 할 수 있다. 이와는 달리 제너레이터를 이용하면 간단하게 이터레이터를 만들 수 있다. 따라서 이터레이터의 성격에 따라 클래스로 만들 것인지 제너레이터로 만들 것인지를 선택해야 한다.\n",
    "\n",
    "간단한 경우라면 제너레이터 함수나 제너레이터 표현식을 사용하는 것이 가독성이나 유지보수 측면에서 유리하다. 다음은 (i * i for i in range(1, 1000)) 제너레이터를 클래스로 구현한 예이다."
   ]
  },
  {
   "attachments": {},
   "cell_type": "markdown",
   "metadata": {},
   "source": [
    "```python\n",
    "class MyIterator:\n",
    "    def __init__(self):\n",
    "        self.data = 1\n",
    "\n",
    "    def __iter__(self):\n",
    "        return self\n",
    "\n",
    "    def __next__(self):\n",
    "        result = self.data * self.data\n",
    "        self.data += 1\n",
    "        if self.data >= 1000:\n",
    "            raise StopIteration\n",
    "        return result"
   ]
  },
  {
   "attachments": {},
   "cell_type": "markdown",
   "metadata": {},
   "source": [
    "이렇게 간단한 경우라면 클래스보다는 제너레이터 표현식을 사용하는 것이 훨씬 간편하고 이해하기 쉽다.\n",
    "\n"
   ]
  },
  {
   "attachments": {},
   "cell_type": "markdown",
   "metadata": {},
   "source": [
    "### 제너레이터 활용하기\n",
    "제너레이터는 어떤 경우에 사용하면 좋을까? 다음의 예제를 통해 생각해 보자."
   ]
  },
  {
   "cell_type": "code",
   "execution_count": 33,
   "metadata": {},
   "outputs": [
    {
     "name": "stdout",
     "output_type": "stream",
     "text": [
      "job started\n",
      "job started\n",
      "job started\n",
      "job started\n",
      "job started\n",
      "done\n"
     ]
    }
   ],
   "source": [
    "import time\n",
    "\n",
    "def longtime_job():\n",
    "    print(\"job started\")\n",
    "    time.sleep(1)\n",
    "    return \"done\"\n",
    "\n",
    "list_jobs = iter([longtime_job() for i in range(5)])\n",
    "print(next(list_jobs))"
   ]
  },
  {
   "attachments": {},
   "cell_type": "markdown",
   "metadata": {},
   "source": [
    "longtime_job() 함수는 함수내에 time.sleep(1) 문장이 있어 실행하는데 1초의 시간이 소요된다. 이 예제는 longtime_job() 함수를 5번 실행하여 리스트에 그 결괏값을 담고 이를 이터레이터로 변경한 후 그 첫 번째 결괏값을 호출하는 예제이다."
   ]
  },
  {
   "attachments": {},
   "cell_type": "markdown",
   "metadata": {},
   "source": [
    "리스트를 만들 때 이미 5개의 함수를 모두 실행하므로 5초의 시간이 소요되고 이와 같은 결과를 출력한다.\n",
    "\n",
    "이번에는 이 예제에 제너레이터를 적용해 보자. 프로그램을 다음과 같이 수정하자."
   ]
  },
  {
   "cell_type": "code",
   "execution_count": 35,
   "metadata": {},
   "outputs": [
    {
     "name": "stdout",
     "output_type": "stream",
     "text": [
      "job started\n",
      "done\n"
     ]
    }
   ],
   "source": [
    "import time\n",
    "\n",
    "def longtime_job():\n",
    "    print(\"job started\")\n",
    "    time.sleep(1)\n",
    "    return \"done\"\n",
    "\n",
    "list_jobs = iter(longtime_job() for i in range(5))\n",
    "print(next(list_jobs))"
   ]
  },
  {
   "attachments": {},
   "cell_type": "markdown",
   "metadata": {},
   "source": [
    "iter([longtime_job() for i in range(5)]) 코드를 제너레이터 표현식((longtime_job() for i in range(5)))으로 바꾸었을 뿐이다. 하지만, 실행 시 1초의 시간만 소요되고 출력되는 결과도 전혀 다르다."
   ]
  },
  {
   "attachments": {},
   "cell_type": "markdown",
   "metadata": {},
   "source": [
    "왜냐하면 제너레이터 표현식으로 인해 longtime_job() 함수가 5회가 아닌 1회만 호출되었기 때문이다. 이러한 방식을 '느긋한 계산법(lazy evaluation)'이라 부른다. 시간이 오래 걸리는 작업을 한꺼번에 처리하기 보다는 필요한 경우에만 호출하여 사용할 때 제너레이터는 매우 유용하다."
   ]
  },
  {
   "cell_type": "code",
   "execution_count": null,
   "metadata": {},
   "outputs": [],
   "source": []
  }
 ],
 "metadata": {
  "kernelspec": {
   "display_name": "base",
   "language": "python",
   "name": "python3"
  },
  "language_info": {
   "codemirror_mode": {
    "name": "ipython",
    "version": 3
   },
   "file_extension": ".py",
   "mimetype": "text/x-python",
   "name": "python",
   "nbconvert_exporter": "python",
   "pygments_lexer": "ipython3",
   "version": "3.10.10"
  },
  "orig_nbformat": 4
 },
 "nbformat": 4,
 "nbformat_minor": 2
}

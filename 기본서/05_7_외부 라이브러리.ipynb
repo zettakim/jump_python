{
 "cells": [
  {
   "attachments": {},
   "cell_type": "markdown",
   "metadata": {},
   "source": [
    "## 05-7 외부 라이브러리\n",
    "파이썬 설치 시 기본으로 설치되는 라이브러리를 파이썬 표준 라이브러리라고 한다. 이번에 소개하는 외부 라이브러리는 파이썬 표준 라이브러리가 아니므로 사용하려면 먼저 pip 도구를 이용하여 설치해야 한다.\n",
    "\n",
    "> pip은 \"핍\" 이라 읽는다."
   ]
  },
  {
   "attachments": {},
   "cell_type": "markdown",
   "metadata": {},
   "source": [
    "### pip\n",
    "pip은 파이썬 모듈이나 패키지를 쉽게 설치할 수 있도록 도와주는 도구이다. pip으로 파이썬 프로그램을 설치하면 의존성 있는 모듈이나 패키지를 함께 설치해 주기 때문에 매우 편리하다. 예를 들어 B라는 파이썬 패키지를 설치하려면 A라는 패키지가 먼저 설치되어야 하는 규칙이 있다고 할 때 pip을 이용하면 B 패키지를 설치할 때 A 패키지도 자동으로 함께 설치된다.\n",
    "\n",
    "pip 사용법에 대해서 간략하게 알아보자."
   ]
  },
  {
   "attachments": {},
   "cell_type": "markdown",
   "metadata": {},
   "source": [
    "#### pip install\n",
    "PyPI(Python Package Index)는 파이썬 소프트웨어가 모인 저장 공간이다. 현재 이곳에는 100,000건 이상의 파이썬 패키지가 등록되어 있으며 이곳에 등록된 파이썬 패키지는 누구나 내려받아 사용할 수 있다. 이곳에서 직접 내려받아 설치해도 되지만 pip을 이용하면 다음과 같이 간편하게 설치를 할 수 있다.\n",
    "\n",
    "```bash\n",
    "pip install SomePackage "
   ]
  },
  {
   "attachments": {},
   "cell_type": "markdown",
   "metadata": {},
   "source": [
    "여기서 SomePackage는 내려받을 수 있는 특정 패키지를 뜻한다.\n",
    "\n",
    "#### pip uninstall\n",
    "설치한 패키지를 삭제하고 싶다면 다음의 명령어로 삭제할 수 있다."
   ]
  },
  {
   "attachments": {},
   "cell_type": "markdown",
   "metadata": {},
   "source": [
    "```bash\n",
    "pip uninstall SomePackage\n",
    "```\n",
    "#### 특정 버전으로 설치하기\n",
    "다음과 같이 버전을 지정하여 설치할 수도 있다. 다음 명령어를 실행하면 1.0.4 버전의 SomePackage를 설치한다.\n",
    "```bash\n",
    "pip install SomePackage==1.0.4\n",
    "다음처럼 버전을 생략하면 최신 버전을 설치한다.\n",
    "\n",
    "pip install SomePackage "
   ]
  },
  {
   "attachments": {},
   "cell_type": "markdown",
   "metadata": {},
   "source": [
    "#### 최신 버전으로 업그레이드하기\n",
    "패키지를 최신 버전으로 업그레이드하려면 --upgrade 옵션과 함께 사용한다.\n",
    "\n",
    "pip install --upgrade SomePackage "
   ]
  },
  {
   "attachments": {},
   "cell_type": "markdown",
   "metadata": {},
   "source": [
    "설치된 패키지 확인하기\n",
    "다음 명령은 pip을 이용하여 설치한 패키지 목록을 출력한다.\n",
    "```bash\n",
    "pip list\n",
    "다음과 같이 설치된 패키지 목록을 출력할 것이다."
   ]
  },
  {
   "attachments": {},
   "cell_type": "markdown",
   "metadata": {},
   "source": [
    "Package                  Version  \n",
    "------------------------ --------  \n",
    "amqp                       2.1.4  \n",
    "anyjson                    0.3.3  \n",
    "billiard                   3.3.0.23  \n",
    "celery                     3.1.0  \n",
    "defusedxml                 0.4.1  \n",
    "diff-match-patch           20121119  \n",
    "(... 생략 ...)  "
   ]
  },
  {
   "attachments": {},
   "cell_type": "markdown",
   "metadata": {},
   "source": [
    "### Faker\n",
    "이번에는 pip을 사용하여 유용한 외부 라이브러리중 하나인 faker를 설치하고 사용해 보자. faker는 테스트용 가짜 데이터를 생성할 때 사용하는 라이브러리이다.\n",
    "\n",
    "faker 라이브러리는 pip을 이용하여 설치해야 한다.\n",
    "\n",
    "```bash\n",
    "C:\\> pip install Faker\n",
    "```"
   ]
  },
  {
   "attachments": {},
   "cell_type": "markdown",
   "metadata": {},
   "source": [
    "#### Faker 사용해 보기\n",
    "만약 다음과 같은 형식의 테스트 데이터 30건이 필요하다고 가정해 보자. 직접 데이터를 작성하지 말고 좀 더 편리한 방법으로 테스트 데이터를 만들려면 어떻게 해야 할까?\n",
    ">[(이름1, 주소1), (이름2, 주소2), ..., (이름30, 주소30)]\n",
    "\n",
    "테스트 데이터는 faker를 사용하면 아주 쉽게 만들 수 있다. 이름은 다음처럼 만들 수 있다.\n",
    "\n"
   ]
  },
  {
   "cell_type": "code",
   "execution_count": 15,
   "metadata": {},
   "outputs": [
    {
     "data": {
      "text/plain": [
       "'William Johnson'"
      ]
     },
     "execution_count": 15,
     "metadata": {},
     "output_type": "execute_result"
    }
   ],
   "source": [
    "from faker import Faker\n",
    "fake = Faker()\n",
    "fake.name()"
   ]
  },
  {
   "attachments": {},
   "cell_type": "markdown",
   "metadata": {},
   "source": [
    "한글 이름이 필요하다면 다음과 같이 한국을 의미하는 ko-KR을 전달하여 fake 객체를 생성하면 된다.\n",
    "\n"
   ]
  },
  {
   "cell_type": "code",
   "execution_count": 16,
   "metadata": {},
   "outputs": [
    {
     "data": {
      "text/plain": [
       "'최상철'"
      ]
     },
     "execution_count": 16,
     "metadata": {},
     "output_type": "execute_result"
    }
   ],
   "source": [
    "fake = Faker('ko_KR')\n",
    "fake.name()"
   ]
  },
  {
   "cell_type": "markdown",
   "metadata": {},
   "source": [
    "주소는 다음과 같이 만들 수 있다."
   ]
  },
  {
   "cell_type": "code",
   "execution_count": 17,
   "metadata": {},
   "outputs": [
    {
     "data": {
      "text/plain": [
       "'전라남도 동해시 도산대2거리 (재현윤한마을)'"
      ]
     },
     "execution_count": 17,
     "metadata": {},
     "output_type": "execute_result"
    }
   ],
   "source": [
    "fake.address()"
   ]
  },
  {
   "attachments": {},
   "cell_type": "markdown",
   "metadata": {},
   "source": [
    "따라서 이름과 주소를 쌍으로 하는 30건의 테스트 데이터는 다음과 같이 만들 수 있다."
   ]
  },
  {
   "cell_type": "code",
   "execution_count": 18,
   "metadata": {},
   "outputs": [],
   "source": [
    "test_data = [(fake.name(), fake.email(), fake.password()) for i in range(10)]"
   ]
  },
  {
   "cell_type": "code",
   "execution_count": 19,
   "metadata": {},
   "outputs": [
    {
     "data": {
      "text/plain": [
       "[('우지혜', 'junhyeogi@example.org', 'p4XHjQEq0@'),\n",
       " ('최재현', 'ihyeonju@example.net', '96IMdlHc@1'),\n",
       " ('박영순', 'jeongsug93@example.org', '^8aOnKveGJ'),\n",
       " ('최종수', 'gimhyeonji@example.com', '^Bg1VJf%Wn'),\n",
       " ('이광수', 'lgim@example.net', '*c6PH#pZQT'),\n",
       " ('김지후', 'jihyeon23@example.com', '*(4M*d1s@r'),\n",
       " ('이재호', 'bgim@example.org', '_M5QpO(q_u'),\n",
       " ('문은경', 'jeongungbag@example.com', 'o4g*TzpF#I'),\n",
       " ('김정호', 'eunjimun@example.com', '@&0UHshmOn'),\n",
       " ('홍정남', 'subin56@example.org', '8(2LMdsEFb')]"
      ]
     },
     "execution_count": 19,
     "metadata": {},
     "output_type": "execute_result"
    }
   ],
   "source": [
    "test_data"
   ]
  },
  {
   "cell_type": "code",
   "execution_count": 20,
   "metadata": {},
   "outputs": [],
   "source": [
    "test_data = [(fake.name(), fake.address()) for i in range(30)]"
   ]
  },
  {
   "cell_type": "code",
   "execution_count": 21,
   "metadata": {},
   "outputs": [
    {
     "data": {
      "text/plain": [
       "[('강영철', '울산광역시 성동구 언주729길 (성현유김동)'),\n",
       " ('김민석', '경상북도 시흥시 삼성길 (하윤김이면)'),\n",
       " ('류상훈', '전라북도 아산시 잠실거리 (성훈권김리)'),\n",
       " ('류혜진', '서울특별시 동대문구 석촌호수가 (준혁이성동)'),\n",
       " ('류도윤', '경상북도 예산군 백제고분로'),\n",
       " ('이경희', '전라북도 고양시 덕양구 가락거리 (영식김읍)'),\n",
       " ('권성수', '경상북도 화천군 서초대168로 (중수류동)'),\n",
       " ('진윤서', '충청북도 용인시 기흥구 테헤란길 (정남이면)'),\n",
       " ('권정훈', '제주특별자치도 음성군 봉은사52거리 (현준오리)'),\n",
       " ('한은지', '광주광역시 성북구 압구정8가'),\n",
       " ('김민수', '충청북도 의정부시 봉은사044가'),\n",
       " ('진하윤', '전라북도 안양시 동안구 가락거리'),\n",
       " ('김혜진', '대전광역시 종로구 반포대6길 (도현이마을)'),\n",
       " ('안영일', '부산광역시 금천구 선릉95가'),\n",
       " ('김서연', '대구광역시 동구 강남대1길 (민서이읍)'),\n",
       " ('류명숙', '경기도 공주시 봉은사거리'),\n",
       " ('장혜진', '인천광역시 송파구 가락3로 (하윤한장면)'),\n",
       " ('임지민', '경기도 제천시 서초중앙7로'),\n",
       " ('김준영', '전라남도 부천시 오정구 서초중앙가 (지아박김마을)'),\n",
       " ('박서현', '광주광역시 구로구 서초중앙68로 (현준최이마을)'),\n",
       " ('이영식', '대전광역시 동구 도산대76가 (상훈이강마을)'),\n",
       " ('오은주', '대구광역시 금천구 양재천8로'),\n",
       " ('이민서', '광주광역시 성북구 압구정가 (미숙이김읍)'),\n",
       " ('박영순', '경상남도 음성군 서초대가'),\n",
       " ('이영호', '대구광역시 금천구 학동39로'),\n",
       " ('이재호', '광주광역시 영등포구 개포28가'),\n",
       " ('한영수', '경상남도 수원시 영통구 서초중앙가 (준혁이면)'),\n",
       " ('김지훈', '서울특별시 서대문구 논현699가'),\n",
       " ('강현숙', '강원도 동두천시 반포대41거리'),\n",
       " ('김혜진', '인천광역시 용산구 서초중앙064로')]"
      ]
     },
     "execution_count": 21,
     "metadata": {},
     "output_type": "execute_result"
    }
   ],
   "source": [
    "test_data"
   ]
  },
  {
   "attachments": {},
   "cell_type": "markdown",
   "metadata": {},
   "source": [
    "#### Faker 활용\n",
    "faker는 앞서 살펴본 name, address 이외에 다른 항목도 제공한다. 대표적인 몇 가지만 알아보자."
   ]
  },
  {
   "attachments": {},
   "cell_type": "markdown",
   "metadata": {},
   "source": [
    "```\n",
    "항목\t설명\n",
    "fake.name()\t이름\n",
    "fake.address()\t주소\n",
    "fake.postcode()\t우편 번호\n",
    "fake.country()\t국가명\n",
    "fake.company()\t회사명\n",
    "fake.job()\t직업명\n",
    "fake.phone_number()\t휴대 전화 번호\n",
    "fake.email()\t이메일 주소\n",
    "fake.user_name()\t사용자명\n",
    "fake.pyint(min_value=0, max_value=100)\t0부터 100 사이의 임의의 숫자\n",
    "fake.ipv4_private()\tIP 주소\n",
    "fake.text()\t임의의 문장 (한글 임의의 문장은 fake.catch_phrase() 사용)\n",
    "fake.color_name()\t색상명\n",
    "```"
   ]
  },
  {
   "attachments": {},
   "cell_type": "markdown",
   "metadata": {},
   "source": [
    "### sympy\n",
    "sympy는 방정식 기호(symbol)를 사용하게 해주는 외부 라이브러리이다. 마찬가지로 pip을 이용하여 sympy를 설치하자.\n",
    "```bash\n",
    "C:\\> pip install sympy\n"
   ]
  },
  {
   "attachments": {},
   "cell_type": "markdown",
   "metadata": {},
   "source": [
    "#### sympy 사용해 보기\n",
    "시윤이는 가진 돈의 2/5로 학용품을 샀다고 한다. 이때 학용품을 사는 데 쓴 돈이 1,760원이라면 남은 돈은 어떻게 구하면 될까?"
   ]
  },
  {
   "attachments": {},
   "cell_type": "markdown",
   "metadata": {},
   "source": [
    "이 문제는 연습장과 연필만 있으면 쉽게 구할 수 있는 일차방정식 문제이다. 파이썬으로는 다음처럼 sympy를 사용하면 방정식을 쉽게 풀 수 있다. 먼저 다음과 같이 fractions 모듈과 sympy 모듈이 필요하다."
   ]
  },
  {
   "cell_type": "code",
   "execution_count": 22,
   "metadata": {},
   "outputs": [],
   "source": [
    "from fractions import Fraction\n",
    "import sympy"
   ]
  },
  {
   "attachments": {},
   "cell_type": "markdown",
   "metadata": {},
   "source": [
    "시윤이가 가진 돈을 x라 하면 sympy 모듈을 사용하여 다음과 같이 표현할 수 있다.\n",
    "```python\n",
    ">>> x = sympy.symbols(\"x\")\n",
    "\n",
    "sympy.symbols()는 x처럼 방정식에 사용하는 미지수를 나타내는 기호를 생성할 때 사용한다.\n",
    "\n",
    "여러개의 기호 사용하기\n",
    "x, y 두 개의 미지수가 필요하다면 다음처럼 표현할 수 있다.\n",
    "\n",
    "x, y = sympy.symbols('x y')"
   ]
  },
  {
   "attachments": {},
   "cell_type": "markdown",
   "metadata": {},
   "source": [
    "시윤이가 가진 돈의 2/5\n",
    "가 1,760원, 즉 일차방정식 x * (2/5) = 1,760원 \n",
    "이므로 이를 코드로 표현하면 다음과 같다."
   ]
  },
  {
   "cell_type": "code",
   "execution_count": 23,
   "metadata": {},
   "outputs": [
    {
     "data": {
      "text/latex": [
       "$\\displaystyle \\frac{2 x}{5} = 1760$"
      ],
      "text/plain": [
       "Eq(2*x/5, 1760)"
      ]
     },
     "execution_count": 23,
     "metadata": {},
     "output_type": "execute_result"
    }
   ],
   "source": [
    "x, y = sympy.symbols('x y')\n",
    "f = sympy.Eq(x*Fraction('2/5'), 1760)\n",
    "f"
   ]
  },
  {
   "attachments": {},
   "cell_type": "markdown",
   "metadata": {},
   "source": [
    "sympy.Eq(a, b)는 a와 b가 같다는 방정식이다. 여기서 사용한 Fraction은 유리수를 표현할 때 사용하는 파이썬 클래스로, 2/5를 정확하게 계산하고자 사용했다.\n"
   ]
  },
  {
   "attachments": {},
   "cell_type": "markdown",
   "metadata": {},
   "source": [
    "#### fractions.Fraction\n",
    "파이썬에서 유리수 연산을 정확하게 하려면 fractions.Fraction을 사용해야 한다.\n",
    "\n",
    "```python\n",
    ">>> from fractions import Fraction\n",
    "유리수는 다음처럼 Fraction(분자, 분모) 형태로 만들 수 있다."
   ]
  },
  {
   "cell_type": "code",
   "execution_count": 24,
   "metadata": {},
   "outputs": [
    {
     "data": {
      "text/plain": [
       "Fraction(1, 5)"
      ]
     },
     "execution_count": 24,
     "metadata": {},
     "output_type": "execute_result"
    }
   ],
   "source": [
    "a = Fraction(1, 5)\n",
    "a"
   ]
  },
  {
   "cell_type": "code",
   "execution_count": 25,
   "metadata": {},
   "outputs": [
    {
     "data": {
      "text/plain": [
       "Fraction(1, 5)"
      ]
     },
     "execution_count": 25,
     "metadata": {},
     "output_type": "execute_result"
    }
   ],
   "source": [
    "a = Fraction('1/5')\n",
    "a"
   ]
  },
  {
   "attachments": {},
   "cell_type": "markdown",
   "metadata": {},
   "source": [
    "f라는 방정식을 세웠으므로 sympy.solve(f)로 x에 해당하는 값을 구할 수 있다."
   ]
  },
  {
   "cell_type": "code",
   "execution_count": 26,
   "metadata": {},
   "outputs": [
    {
     "data": {
      "text/plain": [
       "[4400]"
      ]
     },
     "execution_count": 26,
     "metadata": {},
     "output_type": "execute_result"
    }
   ],
   "source": [
    "result = sympy.solve(f)\n",
    "result"
   ]
  },
  {
   "attachments": {},
   "cell_type": "markdown",
   "metadata": {},
   "source": [
    "sympy.Eq(a, b)는 a와 b가 같다는 방정식이다. 여기서 사용한 Fraction은 유리수를 표현할 때 사용하는 파이썬 클래스로, 2/5를 정확하게 계산하고자 사용했다."
   ]
  },
  {
   "cell_type": "code",
   "execution_count": 27,
   "metadata": {},
   "outputs": [
    {
     "data": {
      "text/latex": [
       "$\\displaystyle 2640$"
      ],
      "text/plain": [
       "2640"
      ]
     },
     "execution_count": 27,
     "metadata": {},
     "output_type": "execute_result"
    }
   ],
   "source": [
    "remains = result[0] - 1760\n",
    "remains"
   ]
  },
  {
   "attachments": {},
   "cell_type": "markdown",
   "metadata": {},
   "source": [
    "```python\n",
    "from fractions import Fraction\n",
    "import sympy\n",
    "\n",
    "# 가지고 있던 돈을 x라고 하자.\n",
    "x = sympy.symbols(\"x\")\n",
    "\n",
    "# 가지고 있던 돈의 2/5가 1760원이므로 방정식은 x * (2/5) = 1760 이다.\n",
    "f = sympy.Eq(x*Fraction('2/5'), 1760)\n",
    "\n",
    "# 방정식을 만족하는 값(result)을 구한다.\n",
    "result = sympy.solve(f)  # 결괏값은 리스트\n",
    "\n",
    "# 남은 돈은 다음과 같이 가지고 있던 돈에서 1760원을 빼면 된다.\n",
    "remains = result[0] - 1760\n",
    "\n",
    "print('남은 돈은 {}원 입니다.'.format(remains))\n",
    "프로그램을 실행한 결과는 다음과 같다.\n",
    "\n",
    "남은 돈은 2640원입니다."
   ]
  },
  {
   "attachments": {},
   "cell_type": "markdown",
   "metadata": {},
   "source": [
    "#### sympy 활용\n",
    "x^2 = 1과 같은 이차방정식의 해를 구해보자."
   ]
  },
  {
   "cell_type": "code",
   "execution_count": 31,
   "metadata": {},
   "outputs": [
    {
     "data": {
      "text/plain": [
       "[-1, 1]"
      ]
     },
     "execution_count": 31,
     "metadata": {},
     "output_type": "execute_result"
    }
   ],
   "source": [
    "import sympy\n",
    "x = sympy.symbols('x')\n",
    "f = sympy.Eq(x**2, 1)\n",
    "sympy.solve(f)"
   ]
  },
  {
   "attachments": {},
   "cell_type": "markdown",
   "metadata": {},
   "source": [
    "또한, 다음과 같은 연립방정식의 해도 구할 수 있다.  \n",
    "x + y = 10  \n",
    "x - y = 4"
   ]
  },
  {
   "cell_type": "code",
   "execution_count": 33,
   "metadata": {},
   "outputs": [
    {
     "data": {
      "text/plain": [
       "{x: 7, y: 3}"
      ]
     },
     "execution_count": 33,
     "metadata": {},
     "output_type": "execute_result"
    }
   ],
   "source": [
    "x, y = sympy.symbols('x y')\n",
    "f1 = sympy.Eq(x+y, 10)\n",
    "f2 = sympy.Eq(x-y, 4)\n",
    "sympy.solve([f1, f2])"
   ]
  },
  {
   "attachments": {},
   "cell_type": "markdown",
   "metadata": {},
   "source": [
    "미지수가 2개 이상이라면 결괏값이 리스트가 아닌 딕셔너리임에 주의하자."
   ]
  },
  {
   "cell_type": "markdown",
   "metadata": {},
   "source": []
  }
 ],
 "metadata": {
  "kernelspec": {
   "display_name": "base",
   "language": "python",
   "name": "python3"
  },
  "language_info": {
   "codemirror_mode": {
    "name": "ipython",
    "version": 3
   },
   "file_extension": ".py",
   "mimetype": "text/x-python",
   "name": "python",
   "nbconvert_exporter": "python",
   "pygments_lexer": "ipython3",
   "version": "3.10.9"
  },
  "orig_nbformat": 4
 },
 "nbformat": 4,
 "nbformat_minor": 2
}

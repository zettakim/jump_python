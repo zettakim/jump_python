{
 "cells": [
  {
   "attachments": {},
   "cell_type": "markdown",
   "metadata": {},
   "source": [
    "## 05-7 외부 라이브러리\n",
    "파이썬 설치 시 기본으로 설치되는 라이브러리를 파이썬 표준 라이브러리라고 한다. 이번에 소개하는 외부 라이브러리는 파이썬 표준 라이브러리가 아니므로 사용하려면 먼저 pip 도구를 이용하여 설치해야 한다.\n",
    "\n",
    "> pip은 \"핍\" 이라 읽는다."
   ]
  },
  {
   "attachments": {},
   "cell_type": "markdown",
   "metadata": {},
   "source": [
    "### pip\n",
    "pip은 파이썬 모듈이나 패키지를 쉽게 설치할 수 있도록 도와주는 도구이다. pip으로 파이썬 프로그램을 설치하면 의존성 있는 모듈이나 패키지를 함께 설치해 주기 때문에 매우 편리하다. 예를 들어 B라는 파이썬 패키지를 설치하려면 A라는 패키지가 먼저 설치되어야 하는 규칙이 있다고 할 때 pip을 이용하면 B 패키지를 설치할 때 A 패키지도 자동으로 함께 설치된다.\n",
    "\n",
    "pip 사용법에 대해서 간략하게 알아보자."
   ]
  },
  {
   "attachments": {},
   "cell_type": "markdown",
   "metadata": {},
   "source": [
    "#### pip install\n",
    "PyPI(Python Package Index)는 파이썬 소프트웨어가 모인 저장 공간이다. 현재 이곳에는 100,000건 이상의 파이썬 패키지가 등록되어 있으며 이곳에 등록된 파이썬 패키지는 누구나 내려받아 사용할 수 있다. 이곳에서 직접 내려받아 설치해도 되지만 pip을 이용하면 다음과 같이 간편하게 설치를 할 수 있다.\n",
    "\n",
    "```bash\n",
    "pip install SomePackage "
   ]
  },
  {
   "attachments": {},
   "cell_type": "markdown",
   "metadata": {},
   "source": [
    "여기서 SomePackage는 내려받을 수 있는 특정 패키지를 뜻한다.\n",
    "\n",
    "#### pip uninstall\n",
    "설치한 패키지를 삭제하고 싶다면 다음의 명령어로 삭제할 수 있다."
   ]
  },
  {
   "attachments": {},
   "cell_type": "markdown",
   "metadata": {},
   "source": [
    "```bash\n",
    "pip uninstall SomePackage\n",
    "```\n",
    "#### 특정 버전으로 설치하기\n",
    "다음과 같이 버전을 지정하여 설치할 수도 있다. 다음 명령어를 실행하면 1.0.4 버전의 SomePackage를 설치한다.\n",
    "```bash\n",
    "pip install SomePackage==1.0.4\n",
    "다음처럼 버전을 생략하면 최신 버전을 설치한다.\n",
    "\n",
    "pip install SomePackage "
   ]
  },
  {
   "attachments": {},
   "cell_type": "markdown",
   "metadata": {},
   "source": [
    "#### 최신 버전으로 업그레이드하기\n",
    "패키지를 최신 버전으로 업그레이드하려면 --upgrade 옵션과 함께 사용한다.\n",
    "\n",
    "pip install --upgrade SomePackage "
   ]
  },
  {
   "attachments": {},
   "cell_type": "markdown",
   "metadata": {},
   "source": [
    "설치된 패키지 확인하기\n",
    "다음 명령은 pip을 이용하여 설치한 패키지 목록을 출력한다.\n",
    "```bash\n",
    "pip list\n",
    "다음과 같이 설치된 패키지 목록을 출력할 것이다."
   ]
  },
  {
   "attachments": {},
   "cell_type": "markdown",
   "metadata": {},
   "source": [
    "Package                  Version  \n",
    "------------------------ --------  \n",
    "amqp                       2.1.4  \n",
    "anyjson                    0.3.3  \n",
    "billiard                   3.3.0.23  \n",
    "celery                     3.1.0  \n",
    "defusedxml                 0.4.1  \n",
    "diff-match-patch           20121119  \n",
    "(... 생략 ...)  "
   ]
  },
  {
   "attachments": {},
   "cell_type": "markdown",
   "metadata": {},
   "source": [
    "### Faker\n",
    "이번에는 pip을 사용하여 유용한 외부 라이브러리중 하나인 faker를 설치하고 사용해 보자. faker는 테스트용 가짜 데이터를 생성할 때 사용하는 라이브러리이다.\n",
    "\n",
    "faker 라이브러리는 pip을 이용하여 설치해야 한다.\n",
    "\n",
    "```bash\n",
    "C:\\> pip install Faker\n",
    "```"
   ]
  },
  {
   "attachments": {},
   "cell_type": "markdown",
   "metadata": {},
   "source": [
    "#### Faker 사용해 보기\n",
    "만약 다음과 같은 형식의 테스트 데이터 30건이 필요하다고 가정해 보자. 직접 데이터를 작성하지 말고 좀 더 편리한 방법으로 테스트 데이터를 만들려면 어떻게 해야 할까?\n",
    ">[(이름1, 주소1), (이름2, 주소2), ..., (이름30, 주소30)]\n",
    "\n",
    "테스트 데이터는 faker를 사용하면 아주 쉽게 만들 수 있다. 이름은 다음처럼 만들 수 있다.\n",
    "\n"
   ]
  },
  {
   "cell_type": "code",
   "execution_count": 6,
   "metadata": {},
   "outputs": [
    {
     "data": {
      "text/plain": [
       "'Dana Reid'"
      ]
     },
     "execution_count": 6,
     "metadata": {},
     "output_type": "execute_result"
    }
   ],
   "source": [
    "from faker import Faker\n",
    "fake = Faker()\n",
    "fake.name()"
   ]
  },
  {
   "attachments": {},
   "cell_type": "markdown",
   "metadata": {},
   "source": [
    "한글 이름이 필요하다면 다음과 같이 한국을 의미하는 ko-KR을 전달하여 fake 객체를 생성하면 된다.\n",
    "\n"
   ]
  },
  {
   "cell_type": "code",
   "execution_count": 7,
   "metadata": {},
   "outputs": [
    {
     "data": {
      "text/plain": [
       "'노영일'"
      ]
     },
     "execution_count": 7,
     "metadata": {},
     "output_type": "execute_result"
    }
   ],
   "source": [
    "fake = Faker('ko_KR')\n",
    "fake.name()"
   ]
  },
  {
   "cell_type": "markdown",
   "metadata": {},
   "source": [
    "주소는 다음과 같이 만들 수 있다."
   ]
  },
  {
   "cell_type": "code",
   "execution_count": 8,
   "metadata": {},
   "outputs": [
    {
     "data": {
      "text/plain": [
       "'충청남도 시흥시 오금길'"
      ]
     },
     "execution_count": 8,
     "metadata": {},
     "output_type": "execute_result"
    }
   ],
   "source": [
    "fake.address()"
   ]
  },
  {
   "attachments": {},
   "cell_type": "markdown",
   "metadata": {},
   "source": [
    "따라서 이름과 주소를 쌍으로 하는 30건의 테스트 데이터는 다음과 같이 만들 수 있다."
   ]
  },
  {
   "cell_type": "code",
   "execution_count": 10,
   "metadata": {},
   "outputs": [],
   "source": [
    "test_data = [(fake.name(), fake.email(), fake.password()) for i in range(10)]"
   ]
  },
  {
   "cell_type": "code",
   "execution_count": 11,
   "metadata": {},
   "outputs": [
    {
     "data": {
      "text/plain": [
       "[('김서윤', 'baghayun@example.net', '*WErP!Au0O'),\n",
       " ('류지혜', 'yeongsigbag@example.org', 'uD8PV&zS*d'),\n",
       " ('김정순', 'hamijeong@example.net', '7$4KKiTi(y'),\n",
       " ('주현지', 'yeongsunim@example.org', 'qV9T2TtT!M'),\n",
       " ('김정자', 'isanghyeon@example.com', '$4_iIA+fSD'),\n",
       " ('최정훈', 'gangjunyeong@example.com', '^#c!LwxKP6'),\n",
       " ('한서현', 'gimboram@example.org', 'Yo6fHek(0@'),\n",
       " ('김경자', 'eungyeongcoe@example.com', 'p+8qBxj1@T'),\n",
       " ('이춘자', 'anogja@example.com', '+8NDAz837v'),\n",
       " ('김수진', 'gimyeongil@example.net', '%+5Lp6mpi1')]"
      ]
     },
     "execution_count": 11,
     "metadata": {},
     "output_type": "execute_result"
    }
   ],
   "source": [
    "test_data"
   ]
  },
  {
   "cell_type": "code",
   "execution_count": 12,
   "metadata": {},
   "outputs": [],
   "source": [
    "test_data = [(fake.name(), fake.address()) for i in range(30)]"
   ]
  },
  {
   "cell_type": "code",
   "execution_count": 13,
   "metadata": {},
   "outputs": [
    {
     "data": {
      "text/plain": [
       "[('최예은', '부산광역시 용산구 강남대908길'),\n",
       " ('이명숙', '경상남도 시흥시 논현로 (민서이김리)'),\n",
       " ('김서준', '서울특별시 관악구 백제고분28로'),\n",
       " ('김미경', '대구광역시 강동구 언주868거리 (영희오면)'),\n",
       " ('박지현', '대구광역시 구로구 강남대2거리'),\n",
       " ('김민준', '대전광역시 금천구 개포로'),\n",
       " ('이미경', '충청남도 영동군 서초중앙196길'),\n",
       " ('김정식', '대전광역시 노원구 언주9길'),\n",
       " ('백건우', '서울특별시 서구 양재천9길'),\n",
       " ('손광수', '전라남도 성남시 중원구 역삼29거리'),\n",
       " ('김서영', '제주특별자치도 괴산군 강남대거리 (춘자김엄동)'),\n",
       " ('이정수', '인천광역시 강북구 삼성가'),\n",
       " ('엄지훈', '인천광역시 서구 영동대길'),\n",
       " ('안진우', '세종특별자치시 금천구 서초중앙535거리'),\n",
       " ('전춘자', '경상북도 강릉시 봉은사569가 (현숙조손리)'),\n",
       " ('박채원', '부산광역시 은평구 서초중앙609길 (미경주마을)'),\n",
       " ('최명자', '서울특별시 동작구 영동대18거리'),\n",
       " ('권준서', '강원도 김포시 오금342로'),\n",
       " ('구정순', '부산광역시 마포구 잠실882가 (준영이김읍)'),\n",
       " ('오민재', '강원도 서산시 가락5가'),\n",
       " ('서병철', '경상남도 보령시 영동대길'),\n",
       " ('김영희', '울산광역시 강북구 백제고분거리 (영진권동)'),\n",
       " ('양하윤', '강원도 청주시 청원구 압구정거리 (진호이읍)'),\n",
       " ('김정웅', '세종특별자치시 강남구 서초대길 (민수윤김동)'),\n",
       " ('양미정', '경기도 용인시 기흥구 서초중앙1거리 (도현강김읍)'),\n",
       " ('박성현', '세종특별자치시 광진구 압구정길'),\n",
       " ('이순자', '대전광역시 강동구 논현길'),\n",
       " ('노민재', '경상북도 안양시 만안구 강남대로 (은정권동)'),\n",
       " ('김경수', '인천광역시 성북구 삼성거리'),\n",
       " ('김민수', '충청남도 용인시 처인구 잠실거리')]"
      ]
     },
     "execution_count": 13,
     "metadata": {},
     "output_type": "execute_result"
    }
   ],
   "source": [
    "test_data"
   ]
  },
  {
   "attachments": {},
   "cell_type": "markdown",
   "metadata": {},
   "source": [
    "#### Faker 활용\n",
    "faker는 앞서 살펴본 name, address 이외에 다른 항목도 제공한다. 대표적인 몇 가지만 알아보자."
   ]
  },
  {
   "attachments": {},
   "cell_type": "markdown",
   "metadata": {},
   "source": [
    "```\n",
    "항목\t설명\n",
    "fake.name()\t이름\n",
    "fake.address()\t주소\n",
    "fake.postcode()\t우편 번호\n",
    "fake.country()\t국가명\n",
    "fake.company()\t회사명\n",
    "fake.job()\t직업명\n",
    "fake.phone_number()\t휴대 전화 번호\n",
    "fake.email()\t이메일 주소\n",
    "fake.user_name()\t사용자명\n",
    "fake.pyint(min_value=0, max_value=100)\t0부터 100 사이의 임의의 숫자\n",
    "fake.ipv4_private()\tIP 주소\n",
    "fake.text()\t임의의 문장 (한글 임의의 문장은 fake.catch_phrase() 사용)\n",
    "fake.color_name()\t색상명\n",
    "```"
   ]
  },
  {
   "attachments": {},
   "cell_type": "markdown",
   "metadata": {},
   "source": [
    "### sympy\n",
    "sympy는 방정식 기호(symbol)를 사용하게 해주는 외부 라이브러리이다. 마찬가지로 pip을 이용하여 sympy를 설치하자.\n",
    "```bash\n",
    "C:\\> pip install sympy\n"
   ]
  },
  {
   "attachments": {},
   "cell_type": "markdown",
   "metadata": {},
   "source": [
    "#### sympy 사용해 보기\n",
    "시윤이는 가진 돈의 2/5로 학용품을 샀다고 한다. 이때 학용품을 사는 데 쓴 돈이 1,760원이라면 남은 돈은 어떻게 구하면 될까?"
   ]
  },
  {
   "attachments": {},
   "cell_type": "markdown",
   "metadata": {},
   "source": [
    "이 문제는 연습장과 연필만 있으면 쉽게 구할 수 있는 일차방정식 문제이다. 파이썬으로는 다음처럼 sympy를 사용하면 방정식을 쉽게 풀 수 있다. 먼저 다음과 같이 fractions 모듈과 sympy 모듈이 필요하다."
   ]
  },
  {
   "cell_type": "code",
   "execution_count": 14,
   "metadata": {},
   "outputs": [],
   "source": [
    "from fractions import Fraction\n",
    "import sympy"
   ]
  },
  {
   "attachments": {},
   "cell_type": "markdown",
   "metadata": {},
   "source": [
    "시윤이가 가진 돈을 x라 하면 sympy 모듈을 사용하여 다음과 같이 표현할 수 있다.\n",
    "```python\n",
    ">>> x = sympy.symbols(\"x\")\n",
    "\n",
    "sympy.symbols()는 x처럼 방정식에 사용하는 미지수를 나타내는 기호를 생성할 때 사용한다.\n",
    "\n",
    "여러개의 기호 사용하기\n",
    "x, y 두 개의 미지수가 필요하다면 다음처럼 표현할 수 있다.\n",
    "\n",
    "x, y = sympy.symbols('x y')"
   ]
  },
  {
   "attachments": {},
   "cell_type": "markdown",
   "metadata": {},
   "source": [
    "시윤이가 가진 돈의 2/5\n",
    "가 1,760원, 즉 일차방정식 x * (2/5) = 1,760원 \n",
    "이므로 이를 코드로 표현하면 다음과 같다."
   ]
  },
  {
   "cell_type": "code",
   "execution_count": 26,
   "metadata": {},
   "outputs": [
    {
     "data": {
      "text/latex": [
       "$\\displaystyle \\frac{2 x}{5} = 1760$"
      ],
      "text/plain": [
       "Eq(2*x/5, 1760)"
      ]
     },
     "execution_count": 26,
     "metadata": {},
     "output_type": "execute_result"
    }
   ],
   "source": [
    "x, y = sympy.symbols('x y')\n",
    "f = sympy.Eq(x*Fraction('2/5'), 1760)\n",
    "f"
   ]
  },
  {
   "attachments": {},
   "cell_type": "markdown",
   "metadata": {},
   "source": [
    "sympy.Eq(a, b)는 a와 b가 같다는 방정식이다. 여기서 사용한 Fraction은 유리수를 표현할 때 사용하는 파이썬 클래스로, 2/5를 정확하게 계산하고자 사용했다.\n"
   ]
  },
  {
   "attachments": {},
   "cell_type": "markdown",
   "metadata": {},
   "source": [
    "#### fractions.Fraction\n",
    "파이썬에서 유리수 연산을 정확하게 하려면 fractions.Fraction을 사용해야 한다.\n",
    "\n",
    "```python\n",
    ">>> from fractions import Fraction\n",
    "유리수는 다음처럼 Fraction(분자, 분모) 형태로 만들 수 있다."
   ]
  },
  {
   "cell_type": "code",
   "execution_count": 19,
   "metadata": {},
   "outputs": [
    {
     "data": {
      "text/plain": [
       "Fraction(1, 5)"
      ]
     },
     "execution_count": 19,
     "metadata": {},
     "output_type": "execute_result"
    }
   ],
   "source": [
    "a = Fraction(1, 5)\n",
    "a"
   ]
  },
  {
   "cell_type": "code",
   "execution_count": 20,
   "metadata": {},
   "outputs": [
    {
     "data": {
      "text/plain": [
       "Fraction(1, 5)"
      ]
     },
     "execution_count": 20,
     "metadata": {},
     "output_type": "execute_result"
    }
   ],
   "source": [
    "a = Fraction('1/5')\n",
    "a"
   ]
  },
  {
   "attachments": {},
   "cell_type": "markdown",
   "metadata": {},
   "source": [
    "f라는 방정식을 세웠으므로 sympy.solve(f)로 x에 해당하는 값을 구할 수 있다."
   ]
  },
  {
   "cell_type": "code",
   "execution_count": 27,
   "metadata": {},
   "outputs": [
    {
     "data": {
      "text/plain": [
       "[4400]"
      ]
     },
     "execution_count": 27,
     "metadata": {},
     "output_type": "execute_result"
    }
   ],
   "source": [
    "result = sympy.solve(f)\n",
    "result"
   ]
  },
  {
   "attachments": {},
   "cell_type": "markdown",
   "metadata": {},
   "source": [
    "sympy.Eq(a, b)는 a와 b가 같다는 방정식이다. 여기서 사용한 Fraction은 유리수를 표현할 때 사용하는 파이썬 클래스로, 2/5를 정확하게 계산하고자 사용했다."
   ]
  },
  {
   "cell_type": "markdown",
   "metadata": {},
   "source": []
  }
 ],
 "metadata": {
  "kernelspec": {
   "display_name": "base",
   "language": "python",
   "name": "python3"
  },
  "language_info": {
   "codemirror_mode": {
    "name": "ipython",
    "version": 3
   },
   "file_extension": ".py",
   "mimetype": "text/x-python",
   "name": "python",
   "nbconvert_exporter": "python",
   "pygments_lexer": "ipython3",
   "version": "3.10.9"
  },
  "orig_nbformat": 4
 },
 "nbformat": 4,
 "nbformat_minor": 2
}

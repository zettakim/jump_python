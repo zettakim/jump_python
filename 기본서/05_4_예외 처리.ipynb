{
 "cells": [
  {
   "cell_type": "markdown",
   "metadata": {},
   "source": [
    "## 05-4 예외 처리\n",
    "프로그램을 만들다 보면 수없이 많은 오류를 만나게 된다. 물론 오류가 발생하는 이유는 프로그램이 잘못 동작하는 것을 막기 위한 파이썬의 배려이다. 이번 장에서는 파이썬에서 오류를 처리하는 방법에 대해서 알아보자."
   ]
  },
  {
   "attachments": {},
   "cell_type": "markdown",
   "metadata": {},
   "source": [
    "### 오류는 어떤 때 발생하는가?"
   ]
  },
  {
   "attachments": {},
   "cell_type": "markdown",
   "metadata": {},
   "source": [
    "오류를 처리하는 방법을 공부하기 전에 어떤 상황에서 오류가 발생하는지 한번 알아보자. 오타를 입력했을 때 발생하는 구문 오류 같은 것이 아닌 실제 프로그램에서 자주 발생하는 오류를 중심으로 살펴보자.\n",
    "\n",
    "먼저 존재하지 않는 파일을 사용하려고 시도했을 때 발생하는 오류이다."
   ]
  },
  {
   "cell_type": "code",
   "execution_count": 1,
   "metadata": {},
   "outputs": [
    {
     "ename": "FileNotFoundError",
     "evalue": "[Errno 2] No such file or directory: '나없는파일'",
     "output_type": "error",
     "traceback": [
      "\u001b[0;31m---------------------------------------------------------------------------\u001b[0m",
      "\u001b[0;31mFileNotFoundError\u001b[0m                         Traceback (most recent call last)",
      "Cell \u001b[0;32mIn[1], line 1\u001b[0m\n\u001b[0;32m----> 1\u001b[0m f \u001b[39m=\u001b[39m \u001b[39mopen\u001b[39;49m(\u001b[39m\"\u001b[39;49m\u001b[39m나없는파일\u001b[39;49m\u001b[39m\"\u001b[39;49m, \u001b[39m'\u001b[39;49m\u001b[39mr\u001b[39;49m\u001b[39m'\u001b[39;49m)\n",
      "File \u001b[0;32m~/miniconda3/lib/python3.10/site-packages/IPython/core/interactiveshell.py:284\u001b[0m, in \u001b[0;36m_modified_open\u001b[0;34m(file, *args, **kwargs)\u001b[0m\n\u001b[1;32m    277\u001b[0m \u001b[39mif\u001b[39;00m file \u001b[39min\u001b[39;00m {\u001b[39m0\u001b[39m, \u001b[39m1\u001b[39m, \u001b[39m2\u001b[39m}:\n\u001b[1;32m    278\u001b[0m     \u001b[39mraise\u001b[39;00m \u001b[39mValueError\u001b[39;00m(\n\u001b[1;32m    279\u001b[0m         \u001b[39mf\u001b[39m\u001b[39m\"\u001b[39m\u001b[39mIPython won\u001b[39m\u001b[39m'\u001b[39m\u001b[39mt let you open fd=\u001b[39m\u001b[39m{\u001b[39;00mfile\u001b[39m}\u001b[39;00m\u001b[39m by default \u001b[39m\u001b[39m\"\u001b[39m\n\u001b[1;32m    280\u001b[0m         \u001b[39m\"\u001b[39m\u001b[39mas it is likely to crash IPython. If you know what you are doing, \u001b[39m\u001b[39m\"\u001b[39m\n\u001b[1;32m    281\u001b[0m         \u001b[39m\"\u001b[39m\u001b[39myou can use builtins\u001b[39m\u001b[39m'\u001b[39m\u001b[39m open.\u001b[39m\u001b[39m\"\u001b[39m\n\u001b[1;32m    282\u001b[0m     )\n\u001b[0;32m--> 284\u001b[0m \u001b[39mreturn\u001b[39;00m io_open(file, \u001b[39m*\u001b[39;49margs, \u001b[39m*\u001b[39;49m\u001b[39m*\u001b[39;49mkwargs)\n",
      "\u001b[0;31mFileNotFoundError\u001b[0m: [Errno 2] No such file or directory: '나없는파일'"
     ]
    }
   ],
   "source": [
    "f = open(\"나없는파일\", 'r')"
   ]
  },
  {
   "attachments": {},
   "cell_type": "markdown",
   "metadata": {},
   "source": [
    "위 예에서 볼 수 있듯이 없는 파일을 열려고 시도하면 FileNotFoundError 오류가 발생한다.\n",
    "\n",
    "이번에는 0으로 다른 숫자를 나누는 경우를 생각해 보자. 이 역시 자주 발생하는 오류이다."
   ]
  },
  {
   "cell_type": "code",
   "execution_count": 2,
   "metadata": {},
   "outputs": [
    {
     "ename": "ZeroDivisionError",
     "evalue": "division by zero",
     "output_type": "error",
     "traceback": [
      "\u001b[0;31m---------------------------------------------------------------------------\u001b[0m",
      "\u001b[0;31mZeroDivisionError\u001b[0m                         Traceback (most recent call last)",
      "Cell \u001b[0;32mIn[2], line 1\u001b[0m\n\u001b[0;32m----> 1\u001b[0m \u001b[39m4\u001b[39;49m \u001b[39m/\u001b[39;49m \u001b[39m0\u001b[39;49m\n",
      "\u001b[0;31mZeroDivisionError\u001b[0m: division by zero"
     ]
    }
   ],
   "source": [
    "4 / 0"
   ]
  },
  {
   "attachments": {},
   "cell_type": "markdown",
   "metadata": {},
   "source": [
    "4를 0으로 나누려니까 ZeroDivisionError 오류가 발생한다.\n",
    "\n",
    "마지막으로 한 가지 예를 더 들어 보자. 다음 오류는 정말 빈번하게 일어난다."
   ]
  },
  {
   "cell_type": "code",
   "execution_count": 3,
   "metadata": {},
   "outputs": [
    {
     "ename": "IndexError",
     "evalue": "list index out of range",
     "output_type": "error",
     "traceback": [
      "\u001b[0;31m---------------------------------------------------------------------------\u001b[0m",
      "\u001b[0;31mIndexError\u001b[0m                                Traceback (most recent call last)",
      "Cell \u001b[0;32mIn[3], line 2\u001b[0m\n\u001b[1;32m      1\u001b[0m a \u001b[39m=\u001b[39m [\u001b[39m1\u001b[39m, \u001b[39m2\u001b[39m, \u001b[39m3\u001b[39m, \u001b[39m4\u001b[39m, \u001b[39m5\u001b[39m, \u001b[39m6\u001b[39m, \u001b[39m7\u001b[39m]\n\u001b[0;32m----> 2\u001b[0m a[\u001b[39m8\u001b[39;49m]\n",
      "\u001b[0;31mIndexError\u001b[0m: list index out of range"
     ]
    }
   ],
   "source": [
    "a = [1, 2, 3, 4, 5, 6, 7]\n",
    "a[8]"
   ]
  },
  {
   "attachments": {},
   "cell_type": "markdown",
   "metadata": {},
   "source": [
    "a는 리스트 [1, 2, 3]이므로 a[4]는 a 리스트에서 얻을 수 없는 값이다. 따라서 IndexError 오류가 발생한다. 파이썬은 이런 오류가 발생하면 프로그램을 중단하고 오류 메시지를 보여 준다."
   ]
  },
  {
   "attachments": {},
   "cell_type": "markdown",
   "metadata": {},
   "source": [
    "### 오류 예외 처리 기법"
   ]
  },
  {
   "attachments": {},
   "cell_type": "markdown",
   "metadata": {},
   "source": [
    "자, 이제 유연한 프로그래밍을 위한 오류 처리 방법에 대해 알아보자.\n",
    "\n",
    "#### try, except문\n",
    "다음은 오류 처리를 위한 try, except문의 기본 구조이다.\n",
    "```python\n",
    "try:\n",
    "    ...\n",
    "except [발생오류 [as 오류변수]]:\n",
    "    ...\n",
    "```"
   ]
  },
  {
   "attachments": {},
   "cell_type": "markdown",
   "metadata": {},
   "source": [
    "try 블록 수행 중 오류가 발생하면 except 블록이 수행된다. 하지만 try 블록에서 오류가 발생하지 않는다면 except 블록은 수행되지 않는다.\n",
    "\n",
    "except 구문을 자세히 살펴보자."
   ]
  },
  {
   "attachments": {},
   "cell_type": "markdown",
   "metadata": {},
   "source": [
    "> ```python except [발생오류 [as 오류변수]]:```"
   ]
  },
  {
   "attachments": {},
   "cell_type": "markdown",
   "metadata": {},
   "source": [
    "위 구문을 보면 [ ] 기호를 사용하는데, 이 기호는 괄호 안의 내용을 생략할 수 있다는 관례적인 표기법이다. 즉 except 구문은 다음 3가지 방법으로 사용할 수 있다.\n",
    "\n",
    "#### 1. try, except만 쓰는 방법"
   ]
  },
  {
   "attachments": {},
   "cell_type": "markdown",
   "metadata": {},
   "source": [
    "```python\n",
    "try:\n",
    "    ...\n",
    "except:\n",
    "    ...\n",
    "```\n",
    "이 경우는 오류 종류에 상관없이 오류가 발생하면 except 블록을 수행한다.\n",
    "\n",
    "#### 2. 발생 오류만 포함한 except문\n",
    "```python\n",
    "try:\n",
    "    ...\n",
    "except 발생오류:\n",
    "    ...\n",
    "```\n",
    "이 경우는 오류가 발생했을 때 except문에 미리 정해 놓은 오류와 동일한 오류일 경우에만 except 블록을 수행한다는 뜻이다.\n",
    "\n",
    "#### 3. 발생오류와 오류변수까지 포함한 except문\n"
   ]
  },
  {
   "attachments": {},
   "cell_type": "markdown",
   "metadata": {},
   "source": [
    "```python\n",
    "try:\n",
    "    ...\n",
    "except 발생오류 as 오류변수:\n",
    "    ...\n",
    "```"
   ]
  },
  {
   "attachments": {},
   "cell_type": "markdown",
   "metadata": {},
   "source": [
    "이 경우는 두 번째 경우에서 오류의 내용까지 알고 싶을 때 사용하는 방법이다.\n",
    "\n",
    "이 방법의 예를 들어 보면 다음과 같다."
   ]
  },
  {
   "cell_type": "code",
   "execution_count": 4,
   "metadata": {},
   "outputs": [
    {
     "name": "stdout",
     "output_type": "stream",
     "text": [
      "division by zero\n"
     ]
    }
   ],
   "source": [
    "try:\n",
    "    4 / 0\n",
    "except ZeroDivisionError as e:\n",
    "    print(e)"
   ]
  },
  {
   "attachments": {},
   "cell_type": "markdown",
   "metadata": {},
   "source": [
    "위처럼 4를 0으로 나누려고 하면 ZeroDivisionError가 발생하여 except 블록이 실행되고 오류변수 e에 담기는 오류 메시지를 출력할 수 있다. 출력한 오류메시지는 다음과 같다.\n",
    "> division by zero"
   ]
  },
  {
   "attachments": {},
   "cell_type": "markdown",
   "metadata": {},
   "source": [
    "#### try .. finally\n",
    "try문에는 finally절을 사용할 수 있다. finally절은 try문 수행 도중 예외 발생 여부에 상관없이 항상 수행된다. 보통 finally절은 사용한 리소스를 close해야 할 때에 많이 사용한다.\n",
    "\n",
    "다음 예를 보자."
   ]
  },
  {
   "attachments": {},
   "cell_type": "markdown",
   "metadata": {},
   "source": [
    "```python\n",
    "try:\n",
    "    f = open('foo.txt', 'w')\n",
    "    # 무언가를 수행한다.\n",
    "\n",
    "    (... 생략 ...)\n",
    "\n",
    "finally:\n",
    "    f.close()  # 중간에 오류가 발생하더라도 무조건 실행된다.\n",
    "```\n",
    "foo.txt 파일을 쓰기 모드로 연 후에 try문을 수행한 후 예외 발생 여부와 상관없이 finally절에서 f.close()로 열린 파일을 닫을 수 있다."
   ]
  },
  {
   "attachments": {},
   "cell_type": "markdown",
   "metadata": {},
   "source": [
    "#### 여러개의 오류처리하기\n",
    "try문 안에서 여러 개의 오류를 처리하려면 다음과 같이 사용한다."
   ]
  },
  {
   "attachments": {},
   "cell_type": "markdown",
   "metadata": {},
   "source": [
    "```python\n",
    "try:\n",
    "    ...\n",
    "except 발생오류1:\n",
    "   ... \n",
    "except 발생오류2:\n",
    "   ...\n",
    "```"
   ]
  },
  {
   "attachments": {},
   "cell_type": "markdown",
   "metadata": {},
   "source": [
    "즉 0으로 나누는 오류와 인덱싱 오류를 다음과 같이 처리할 수 있다."
   ]
  },
  {
   "cell_type": "code",
   "execution_count": 5,
   "metadata": {},
   "outputs": [
    {
     "name": "stdout",
     "output_type": "stream",
     "text": [
      "IndexError\n"
     ]
    }
   ],
   "source": [
    "try:\n",
    "    a = [1, 2]\n",
    "    print(a[3])\n",
    "    4/0\n",
    "except ZeroDivisionError:\n",
    "    print(\"ZeroDivisionError\")\n",
    "except IndexError:\n",
    "    print(\"IndexError\")"
   ]
  },
  {
   "cell_type": "markdown",
   "metadata": {},
   "source": [
    "a는 2개의 요솟값을 가지고 있기 때문에 a[3]는 IndexError를 발생시키므로 \"인덱싱할 수 없습니다.\"라는 문자열이 출력될 것이다. 인덱싱 오류가 먼저 발생했으므로 4/0으로 발생되는 ZeroDivisionError 오류는 발생하지 않는다.\n",
    "\n",
    "앞에서 알아본 것과 마찬가지로 오류 메시지도 다음과 같이 확인할 수 있다."
   ]
  },
  {
   "cell_type": "code",
   "execution_count": 8,
   "metadata": {},
   "outputs": [
    {
     "name": "stdout",
     "output_type": "stream",
     "text": [
      "list index out of range\n"
     ]
    }
   ],
   "source": [
    "try:\n",
    "    a = [1, 2]\n",
    "    print(a[3])\n",
    "    4/0\n",
    "except ZeroDivisionError as e:\n",
    "    print(e)\n",
    "except IndexError as e:\n",
    "    print(e)"
   ]
  },
  {
   "cell_type": "markdown",
   "metadata": {},
   "source": [
    "프로그램을 실행하면 \"list index out of range\" 라는 오류 메시지가 출력될 것이다.\n",
    "\n",
    "다음과 같이 ZerroDivisionError와 IndexError를 함께 처리할 수도 있다."
   ]
  },
  {
   "cell_type": "code",
   "execution_count": 10,
   "metadata": {},
   "outputs": [
    {
     "name": "stdout",
     "output_type": "stream",
     "text": [
      "list index out of range\n"
     ]
    }
   ],
   "source": [
    "try:\n",
    "    a = [1, 2]\n",
    "    print(a[3])\n",
    "    4/0\n",
    "except (ZeroDivisionError, IndexError) as e:\n",
    "    print(e)"
   ]
  },
  {
   "cell_type": "markdown",
   "metadata": {},
   "source": [
    "2개 이상의 오류를 동일하게 처리하기 위해서는 위와 같이 괄호를 사용하여 함께 묶어 처리하면 된다."
   ]
  },
  {
   "attachments": {},
   "cell_type": "markdown",
   "metadata": {},
   "source": [
    "#### try ... else\n",
    "try문에는 다음처럼 else절을 사용할 수 있다.\n",
    "```python\n",
    "try:\n",
    "    ...\n",
    "except [발생오류 [as 오류변수]]:\n",
    "    ...\n",
    "else:  # 오류가 없을 경우에만 수행된다.\n",
    "    ...\n",
    "````\n",
    "try문 수행중 오류가 발생하면 except절이 수행되고 오류가 없으면 else절이 수행된다.\n",
    "\n",
    "다음은 try문에 else절을 사용한 간단한 예제이다."
   ]
  },
  {
   "cell_type": "code",
   "execution_count": 12,
   "metadata": {},
   "outputs": [
    {
     "name": "stdout",
     "output_type": "stream",
     "text": [
      "입력이 정확하지 않습니다.\n"
     ]
    }
   ],
   "source": [
    "try:\n",
    "    age=int(input('나이를 입력하세요: '))\n",
    "except:\n",
    "    print('입력이 정확하지 않습니다.')\n",
    "else:\n",
    "    if age <= 18:\n",
    "        print('미성년자는 출입금지입니다.')\n",
    "    else:\n",
    "        print('환영합니다.')"
   ]
  },
  {
   "cell_type": "markdown",
   "metadata": {},
   "source": [
    "만약 '나이를 입력하세요:' 라는 질문에 숫자가 아닌 다른 값을 입력하면 오류가 발생하여 '입력이 정확하지 않습니다.'라는 문장을 출력한다. 오류가 없을 경우에만 else절이 수행된다."
   ]
  },
  {
   "attachments": {},
   "cell_type": "markdown",
   "metadata": {},
   "source": [
    "#### 오류 회피하기\n",
    "코드를 작성하다 보면 특정 오류가 발생할 경우 그냥 통과시켜야 할 때가 있다. 다음 예를 보자.\n",
    "```python\n",
    "try:\n",
    "    f = open(\"나없는파일\", 'r')\n",
    "except FileNotFoundError:\n",
    "    pass\n",
    "```\n",
    "try문 안에서 FileNotFoundError가 발생할 경우에 pass를 사용하여 오류를 그냥 회피하도록 작성한 예제이다."
   ]
  },
  {
   "attachments": {},
   "cell_type": "markdown",
   "metadata": {},
   "source": [
    "#### 오류 일부러 발생시키기\n",
    "이상하게 들리겠지만 프로그래밍을 하다 보면 종종 오류를 일부러 발생시켜야 할 경우도 생긴다. 파이썬은 raise 명령어를 사용해 오류를 강제로 발생시킬 수 있다.\n",
    "\n",
    "예를 들어 Bird 클래스를 상속받는 자식 클래스는 반드시 fly라는 함수를 구현하도록 만들고 싶은 경우(강제로 그렇게 하고 싶은 경우)가 있을 수 있다. 다음 예를 보자.\n",
    "```python\n",
    "class Bird:\n",
    "    def fly(self):\n",
    "        raise NotImplementedError\n",
    "```\n",
    "위 예제는 Bird 클래스를 상속받는 자식 클래스는 반드시 fly 함수를 구현해야 한다는 의지를 보여 준다. 만약 자식 클래스가 fly 함수를 구현하지 않은 상태로 fly 함수를 호출한다면 어떻게 될까?\n",
    "\n"
   ]
  },
  {
   "attachments": {},
   "cell_type": "markdown",
   "metadata": {},
   "source": [
    "> NotImplementedError는 파이썬에 이미 정의되어 있는 오류로, 꼭 작성해야 하는 부분이 구현되지 않았을 경우 일부러 오류를 일으키기 위해 사용한다."
   ]
  },
  {
   "cell_type": "code",
   "execution_count": 13,
   "metadata": {},
   "outputs": [],
   "source": [
    "class Bird:\n",
    "    def fly(self):\n",
    "        raise NotImplementedError"
   ]
  },
  {
   "cell_type": "code",
   "execution_count": 14,
   "metadata": {},
   "outputs": [
    {
     "ename": "NotImplementedError",
     "evalue": "",
     "output_type": "error",
     "traceback": [
      "\u001b[0;31m---------------------------------------------------------------------------\u001b[0m",
      "\u001b[0;31mNotImplementedError\u001b[0m                       Traceback (most recent call last)",
      "Cell \u001b[0;32mIn[14], line 5\u001b[0m\n\u001b[1;32m      2\u001b[0m     \u001b[39mpass\u001b[39;00m\n\u001b[1;32m      4\u001b[0m eagle \u001b[39m=\u001b[39m Eagle()\n\u001b[0;32m----> 5\u001b[0m eagle\u001b[39m.\u001b[39;49mfly()\n",
      "Cell \u001b[0;32mIn[13], line 3\u001b[0m, in \u001b[0;36mBird.fly\u001b[0;34m(self)\u001b[0m\n\u001b[1;32m      2\u001b[0m \u001b[39mdef\u001b[39;00m \u001b[39mfly\u001b[39m(\u001b[39mself\u001b[39m):\n\u001b[0;32m----> 3\u001b[0m     \u001b[39mraise\u001b[39;00m \u001b[39mNotImplementedError\u001b[39;00m\n",
      "\u001b[0;31mNotImplementedError\u001b[0m: "
     ]
    }
   ],
   "source": [
    "class Eagle(Bird):\n",
    "    pass\n",
    "\n",
    "eagle = Eagle()\n",
    "eagle.fly()"
   ]
  },
  {
   "attachments": {},
   "cell_type": "markdown",
   "metadata": {},
   "source": [
    "Eagle 클래스는 Bird 클래스를 상속받았다. 그런데 Eagle 클래스는 fly 메서드를 오버라이딩하여 구현하지 않았다. 따라서 eagle 객체의 fly 메서드를 수행하는 순간 Bird 클래스의 fly 메서드가 수행되어 NotImplementedError가 발생한다."
   ]
  },
  {
   "attachments": {},
   "cell_type": "markdown",
   "metadata": {},
   "source": [
    "> 상속받는 클래스에서 메서드를 재구현하는 것을 메서드 오버라이딩이라고 한다."
   ]
  },
  {
   "attachments": {},
   "cell_type": "markdown",
   "metadata": {},
   "source": [
    "NotImplementedError가 발생되지 않게 하려면 다음과 같이 Eagle 클래스에 fly 함수를 구현해야 한다."
   ]
  },
  {
   "cell_type": "code",
   "execution_count": 15,
   "metadata": {},
   "outputs": [
    {
     "name": "stdout",
     "output_type": "stream",
     "text": [
      "very fast\n"
     ]
    }
   ],
   "source": [
    "class Eagle(Bird):\n",
    "    def fly(self):\n",
    "        print(\"very fast\")\n",
    "\n",
    "eagle = Eagle()\n",
    "eagle.fly()"
   ]
  },
  {
   "attachments": {},
   "cell_type": "markdown",
   "metadata": {},
   "source": [
    "위 예처럼 fly 함수를 구현한 후 프로그램을 실행하면 오류 없이 다음 문장이 출력된다."
   ]
  },
  {
   "attachments": {},
   "cell_type": "markdown",
   "metadata": {},
   "source": [
    "#### 예외 만들기\n",
    "프로그램 수행 도중 특수한 경우에만 예외 처리를 하기 위해서 종종 예외를 만들어서 사용한다. 이번에는 직접 예외를 만들어 보자. 예외는 다음과 같이 파이썬 내장 클래스인 Exception 클래스를 상속하여 만들 수 있다."
   ]
  },
  {
   "cell_type": "code",
   "execution_count": 16,
   "metadata": {},
   "outputs": [],
   "source": [
    "class MyError(Exception):\n",
    "    pass"
   ]
  },
  {
   "attachments": {},
   "cell_type": "markdown",
   "metadata": {},
   "source": [
    "그리고 별명을 출력하는 함수를 다음과 같이 작성해 보자."
   ]
  },
  {
   "cell_type": "code",
   "execution_count": 17,
   "metadata": {},
   "outputs": [],
   "source": [
    "def say_nick(nick):\n",
    "    if nick == \"바보\":\n",
    "        raise MyError()\n",
    "    print(nick)"
   ]
  },
  {
   "cell_type": "markdown",
   "metadata": {},
   "source": [
    "그리고 다음과 같이 say_nick 함수를 호출해 보자."
   ]
  },
  {
   "cell_type": "code",
   "execution_count": 21,
   "metadata": {},
   "outputs": [
    {
     "name": "stdout",
     "output_type": "stream",
     "text": [
      "천사\n"
     ]
    },
    {
     "ename": "MyError",
     "evalue": "",
     "output_type": "error",
     "traceback": [
      "\u001b[0;31m---------------------------------------------------------------------------\u001b[0m",
      "\u001b[0;31mMyError\u001b[0m                                   Traceback (most recent call last)",
      "Cell \u001b[0;32mIn[21], line 2\u001b[0m\n\u001b[1;32m      1\u001b[0m say_nick(\u001b[39m\"\u001b[39m\u001b[39m천사\u001b[39m\u001b[39m\"\u001b[39m)\n\u001b[0;32m----> 2\u001b[0m say_nick(\u001b[39m\"\u001b[39;49m\u001b[39m바보\u001b[39;49m\u001b[39m\"\u001b[39;49m)\n",
      "Cell \u001b[0;32mIn[17], line 3\u001b[0m, in \u001b[0;36msay_nick\u001b[0;34m(nick)\u001b[0m\n\u001b[1;32m      1\u001b[0m \u001b[39mdef\u001b[39;00m \u001b[39msay_nick\u001b[39m(nick):\n\u001b[1;32m      2\u001b[0m     \u001b[39mif\u001b[39;00m nick \u001b[39m==\u001b[39m \u001b[39m\"\u001b[39m\u001b[39m바보\u001b[39m\u001b[39m\"\u001b[39m:\n\u001b[0;32m----> 3\u001b[0m         \u001b[39mraise\u001b[39;00m MyError()\n\u001b[1;32m      4\u001b[0m     \u001b[39mprint\u001b[39m(nick)\n",
      "\u001b[0;31mMyError\u001b[0m: "
     ]
    }
   ],
   "source": [
    "say_nick(\"천사\")\n",
    "say_nick(\"바보\")"
   ]
  },
  {
   "attachments": {},
   "cell_type": "markdown",
   "metadata": {},
   "source": [
    "저장한 뒤 프로그램을 실행해 보면 다음과 같이 \"천사\"가 한 번 출력된 후 MyError가 발생한다."
   ]
  },
  {
   "cell_type": "markdown",
   "metadata": {},
   "source": [
    "이번에는 예외 처리 기법을 사용하여 MyError 발생을 예외 처리해 보자."
   ]
  },
  {
   "cell_type": "code",
   "execution_count": 22,
   "metadata": {},
   "outputs": [
    {
     "name": "stdout",
     "output_type": "stream",
     "text": [
      "천사\n",
      "허용되지 않는 별명입니다.\n"
     ]
    }
   ],
   "source": [
    "try:\n",
    "    say_nick(\"천사\")\n",
    "    say_nick(\"바보\")\n",
    "except MyError:\n",
    "    print(\"허용되지 않는 별명입니다.\")"
   ]
  },
  {
   "attachments": {},
   "cell_type": "markdown",
   "metadata": {},
   "source": [
    "프로그램을 실행하면 위와 같이 출력된다.\n",
    "만약 오류 메시지를 사용하고 싶다면 다음처럼 예외 처리를 하면 된다."
   ]
  },
  {
   "cell_type": "code",
   "execution_count": 25,
   "metadata": {},
   "outputs": [
    {
     "name": "stdout",
     "output_type": "stream",
     "text": [
      "천사\n",
      "\n"
     ]
    }
   ],
   "source": [
    "try:\n",
    "    say_nick(\"천사\")\n",
    "    say_nick(\"바보\")\n",
    "except MyError as e:\n",
    "    print(e)"
   ]
  },
  {
   "attachments": {},
   "cell_type": "markdown",
   "metadata": {},
   "source": [
    "하지만 프로그램을 실행해 보면 print(e)로 오류 메시지가 출력되지 않는 것을 확인할 수 있다. 오류 메시지를 출력했을 때 오류 메시지가 보이게 하려면 오류 클래스에 다음과 같은 __str__ 메서드를 구현해야 한다. __str__ 메서드는 print(e)처럼 오류 메시지를 print문으로 출력할 경우에 호출되는 메서드이다."
   ]
  },
  {
   "cell_type": "code",
   "execution_count": 26,
   "metadata": {},
   "outputs": [],
   "source": [
    "class MyError(Exception):\n",
    "    def __str__(self):\n",
    "        return \"허용되지 않은 별명입니다.\""
   ]
  },
  {
   "cell_type": "markdown",
   "metadata": {},
   "source": [
    "프로그램을 다시 실행해 보면 \"허용되지 않는 별명입니다.\"라는 오류메시지가 출력되는 것을 확인할 수 있을 것이다."
   ]
  },
  {
   "cell_type": "code",
   "execution_count": 27,
   "metadata": {},
   "outputs": [
    {
     "name": "stdout",
     "output_type": "stream",
     "text": [
      "천사\n",
      "허용되지 않은 별명입니다.\n"
     ]
    }
   ],
   "source": [
    "try:\n",
    "    say_nick(\"천사\")\n",
    "    say_nick(\"바보\")\n",
    "except MyError as e:\n",
    "    print(e)"
   ]
  },
  {
   "cell_type": "code",
   "execution_count": null,
   "metadata": {},
   "outputs": [],
   "source": []
  }
 ],
 "metadata": {
  "kernelspec": {
   "display_name": "base",
   "language": "python",
   "name": "python3"
  },
  "language_info": {
   "codemirror_mode": {
    "name": "ipython",
    "version": 3
   },
   "file_extension": ".py",
   "mimetype": "text/x-python",
   "name": "python",
   "nbconvert_exporter": "python",
   "pygments_lexer": "ipython3",
   "version": "3.10.9"
  },
  "orig_nbformat": 4
 },
 "nbformat": 4,
 "nbformat_minor": 2
}

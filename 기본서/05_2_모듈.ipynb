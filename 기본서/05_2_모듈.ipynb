{
 "cells": [
  {
   "attachments": {},
   "cell_type": "markdown",
   "metadata": {},
   "source": [
    "## 05-2 모듈\n",
    "모듈이란 함수나 변수 또는 클래스를 모아 놓은 파이썬 파일이다. 모듈은 다른 파이썬 프로그램에서 불러와 사용할 수 있게끔 만든 파이썬 파일이라고도 할 수 있다. 우리는 파이썬으로 프로그래밍을 할 때 굉장히 많은 모듈을 사용한다. 다른 사람들이 이미 만들어 놓은 모듈을 사용할 수도 있고 우리가 직접 만들어서 사용할 수도 있다. 여기에서는 모듈을 어떻게 만들고 사용할 수 있는지 알아보겠다."
   ]
  },
  {
   "attachments": {},
   "cell_type": "markdown",
   "metadata": {},
   "source": [
    "### 모듈 만들기\n",
    "모듈에 대해 자세히 살펴보기 전에 간단한 모듈을 한번 만들어 보자.\n",
    "\n",
    "```python\n",
    "# mod1.py\n",
    "def add(a, b):\n",
    "    return a + b\n",
    "\n",
    "def sub(a, b): \n",
    "    return a-b\n",
    "```\n",
    "위와 같이 add와 sub 함수만 있는 파일 mod1.py를 만들고 C:\\doit 디렉터리에 저장하자. 이 mod1.py 파일이 바로 모듈이다. 지금까지 에디터로 만든 파이썬 파일과 다르지 않다.\n",
    "\n",
    "파이썬 확장자 .py로 만든 파이썬 파일은 모두 모듈이다.\n",
    "\n",
    "모듈 불러오기\n",
    "우리가 만든 mod1.py 파일, 즉 모듈을 파이썬에서 불러와 사용하려면 어떻게 해야 할까?\n",
    "\n",
    "먼저 다음과 같이 명령 프롬프트 창을 열고 mod1.py를 저장한 디렉터리(이 책에서는 C:\\doit)로 이동한 다음 대화형 인터프리터를 실행해 보자.\n",
    "\n",
    "```bash\n",
    "C:\\Users\\pahkey>cd C:\\doit\n",
    "C:\\doit>dir\n",
    "...\n",
    "2014-09-23 오후 01:53 49 mod1.py\n",
    "...\n",
    "C:\\doit>python\n",
    ">>> \n",
    "```\n",
    "반드시 mod1.py 파일을 저장한 C:\\doit 디렉터리로 이동한 다음 예제를 진행해야 한다. 그래야만 대화형 인터프리터에서 mod1.py 모듈을 읽을 수 있다.\n",
    "\n",
    "그리고 다음과 같이 따라 해 보자.\n",
    "\n"
   ]
  },
  {
   "cell_type": "markdown",
   "metadata": {},
   "source": []
  },
  {
   "cell_type": "markdown",
   "metadata": {},
   "source": []
  }
 ],
 "metadata": {
  "language_info": {
   "name": "python"
  },
  "orig_nbformat": 4
 },
 "nbformat": 4,
 "nbformat_minor": 2
}

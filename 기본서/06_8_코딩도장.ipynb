{
 "cells": [
  {
   "cell_type": "markdown",
   "metadata": {},
   "source": [
    "## 06-8 코딩도장\n",
    "다음은 \"위대한 프로그래머가 되려면 어떻게 해야할까?\" 라는 질문에 대한 \"워드 커닝햄\"의 답변이다.\n",
    "\n",
    "저는 작지만 유용한 프로그램들을 매일 작성할 것을 추천합니다. 누군가가 똑같거나 혹은 더 나은 걸 이미 만들었다는 데에 절대 신경쓰지 마세요. 유용성과 복잡성 간의 균형 감각을 얻기 위해서는 당신 자신이 만든 프로그램의 유용성을 직접 느껴봐야만 합니다.\n",
    "- 워드 커닝햄 (김창준씨와의 인터뷰중에서)\n",
    "\n",
    "\"워드 커닝햄\"의 말을 실천할 수 있는 방법 중 하나로 위키독스의 자매사이트인 코딩도장을 소개한다. 코딩도장은 프로그래밍 문제풀이를 통해서 코딩 실력을 수련(Practice)하는 곳이다.\n",
    "\n",
    "코딩도장 : http://codingdojang.com\n",
    "이 곳에서 쉬운문제부터 천천히 풀어보도록 하자."
   ]
  },
  {
   "cell_type": "code",
   "execution_count": null,
   "metadata": {},
   "outputs": [],
   "source": []
  }
 ],
 "metadata": {
  "language_info": {
   "name": "python"
  },
  "orig_nbformat": 4
 },
 "nbformat": 4,
 "nbformat_minor": 2
}

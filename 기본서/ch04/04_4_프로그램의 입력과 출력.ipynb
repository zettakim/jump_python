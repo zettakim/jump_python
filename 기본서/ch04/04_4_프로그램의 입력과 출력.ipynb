{
 "cells": [
  {
   "attachments": {},
   "cell_type": "markdown",
   "metadata": {},
   "source": [
    "## 04-4 프로그램의 입력과 출력"
   ]
  },
  {
   "attachments": {},
   "cell_type": "markdown",
   "metadata": {},
   "source": [
    "파이썬에서는 sys 모듈을 사용하여 프로그램에 인수를 전달할 수 있다.   \n",
    "\n",
    "sys 모듈을 사용하려면 아래 예의 import sys처럼 import 명령어를 사용해야 한다."
   ]
  },
  {
   "attachments": {
    "image.png": {
     "image/png": "[encoded data removed]"
    }
   },
   "cell_type": "markdown",
   "metadata": {},
   "source": [
    "```python\n",
    "#sys1.py\n",
    "import sys\n",
    "\n",
    "args = sys.argv[1:]\n",
    "for i in args:\n",
    "    print(i)\n",
    "\n",
    "```\n",
    "위 예는 프로그램 실행시 전달받은 인수를 for문을 사용해 차례대로 하나씩 출력하는 예이다.   \n",
    "sys 모듈의 argv는 프로그램 실행시 전달된 인수를 의미한다.   \n",
    "즉 다음과 같이 입력했다면 argv[0]은 파일 이름 sys1.py가 되고 argv[1]부터는 뒤에   \n",
    "따라오는 인수가 차례로 argv의 요소가 된다.\n",
    "\n",
    "![image.png](attachment:image.png)\n",
    "\n",
    "```bash\n",
    "% python sys1.py aaa bbb ccc\n",
    "aaa\n",
    "bbb\n",
    "ccc\n",
    "```"
   ]
  },
  {
   "attachments": {},
   "cell_type": "markdown",
   "metadata": {},
   "source": [
    "```python\n",
    "#sys2.py\n",
    "import sys\n",
    "args = sys.argv[1:]\n",
    "for i in args:\n",
    "    print(i.upper(), end=' ')\n",
    "```\n",
    "문자열 관련 함수인 upper()를 사용하여 프로그램 실행시 전달된 인수를 모두 대문자로 바꾸어 주는 간단한 프로그램이다.   \n",
    "명령프롬프트 창에서 다음과 같이 실행해 보자."
   ]
  },
  {
   "attachments": {},
   "cell_type": "markdown",
   "metadata": {},
   "source": [
    "```bash\n",
    "% python sys2.py life is too short, you need python\n",
    "```\n",
    "LIFE IS TOO SHORT, YOU NEED PYTHON"
   ]
  },
  {
   "cell_type": "markdown",
   "metadata": {},
   "source": []
  }
 ],
 "metadata": {
  "kernelspec": {
   "display_name": "base",
   "language": "python",
   "name": "python3"
  },
  "language_info": {
   "codemirror_mode": {
    "name": "ipython",
    "version": 3
   },
   "file_extension": ".py",
   "mimetype": "text/x-python",
   "name": "python",
   "nbconvert_exporter": "python",
   "pygments_lexer": "ipython3",
   "version": "3.9.13"
  },
  "orig_nbformat": 4
 },
 "nbformat": 4,
 "nbformat_minor": 2
}

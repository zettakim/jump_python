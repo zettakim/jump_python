{
 "cells": [
  {
   "attachments": {},
   "cell_type": "markdown",
   "metadata": {},
   "source": [
    "### 04-3 파일 읽고 쓰기\n",
    "\n",
    "\n",
    "[추천 동영상 강의 04-3, 04-4 합본] : https://www.youtube.com/watch?v=XX7y5CFqPdw\n",
    "\n",
    "우리는 이 책에서 이제까지 값을 \"입력\"받을 때는 사용자가 직접 입력하는 방식을 사용했고   \n",
    "\"출력\"할 때는 모니터 화면에 결괏값을 출력하는 방식을 사용했다.  \n",
    "하지만 입출력 방법이 꼭 이것만 있는 것은 아니다.   \n",
    "\n",
    "이번에는 파일을 통한 입출력 방법에 대해 알아보자.   \n",
    "여기에서는 파일을 새로 만든 다음 프로그램이 만든 결괏값을 새 파일에 적어볼 것이다.   \n",
    "또 파일에 적은 내용을 읽고, 새로운 내용을 추가하는 방법도 알아볼 것이다."
   ]
  },
  {
   "attachments": {},
   "cell_type": "markdown",
   "metadata": {},
   "source": [
    "#### 파일 생성하기"
   ]
  },
  {
   "cell_type": "code",
   "execution_count": 1,
   "metadata": {},
   "outputs": [],
   "source": [
    "f = open(\"/Users/zetta/Documents/jump_python/기본서/newfile.txt\", \"w\")\n",
    "f.close()"
   ]
  },
  {
   "attachments": {},
   "cell_type": "markdown",
   "metadata": {},
   "source": [
    "프로그램을 실행한 디렉터리에 새로운 파일이 하나 생성된 것을 확인할 수 있을 것이다.   \n",
    "파일을 생성하기 위해 파이썬 내장 함수 open을 사용했다.   \n",
    "open 함수는 다음과 같이 \"파일 이름\"과 \"파일 열기 모드\"를 입력값으로 받고 결괏값으로 파일 객체를 리턴한다."
   ]
  },
  {
   "attachments": {},
   "cell_type": "markdown",
   "metadata": {},
   "source": [
    ">파일 객체 = open(파일 이름, 파일 열기 모드)"
   ]
  },
  {
   "attachments": {},
   "cell_type": "markdown",
   "metadata": {},
   "source": [
    "파일열기모드\t설명  \n",
    "\n",
    "r\t  읽기모드 - 파일을 읽기만 할 때 사용  \n",
    "w\t  쓰기모드 - 파일에 내용을 쓸 때 사용  \n",
    "a\t  추가모드 - 파일의 마지막에 새로운 내용을 추가 시킬 때 사용  "
   ]
  },
  {
   "attachments": {},
   "cell_type": "markdown",
   "metadata": {},
   "source": [
    "파일을 쓰기 모드로 열면 해당 파일이 이미 존재할 경우 원래 있던 내용이 모두 사라지고,   \n",
    "해당 파일이 존재하지 않으면 새로운 파일이 생성된다.   \n",
    "위 예에서는 디렉터리에 파일이 없는 상태에서 새파일.txt를 쓰기 모드인 'w'로 열었기 때문에   \n",
    "새파일.txt라는 이름의 새로운 파일이 현재 디렉터리에 생성되었다."
   ]
  },
  {
   "attachments": {},
   "cell_type": "markdown",
   "metadata": {},
   "source": [
    "위 예에서 f.close()는 열려 있는 파일 객체를 닫아 주는 역할을 한다. 사실 이 문장은 생략해도 된다.   \n",
    "프로그램을 종료할 때 파이썬 프로그램이 열려 있는 파일의 객체를 자동으로 닫아주기 때문이다.   \n",
    "하지만 close()를 사용해서 열려 있는 파일을 직접 닫아 주는 것이 좋다.   \n",
    "쓰기모드로 열었던 파일을 닫지 않고 다시 사용하려고 하면 오류가 발생하기 때문이다."
   ]
  },
  {
   "attachments": {},
   "cell_type": "markdown",
   "metadata": {},
   "source": [
    "#### 파일을 쓰기 모드로 열어 내용 쓰기"
   ]
  },
  {
   "cell_type": "code",
   "execution_count": 4,
   "metadata": {},
   "outputs": [],
   "source": [
    "# writedata.py\n",
    "f = open(\"/Users/zetta/Documents/jump_python/기본서/newfile.txt\", \"w\")\n",
    "\n",
    "for i in range(2, 21):\n",
    "    data = \"%d번쩨 줄입니다.\\n\" % i\n",
    "    f.write(data)\n",
    "f.close()"
   ]
  },
  {
   "attachments": {},
   "cell_type": "markdown",
   "metadata": {},
   "source": [
    "### 파일을 읽는 여러 가지 방법"
   ]
  },
  {
   "attachments": {},
   "cell_type": "markdown",
   "metadata": {},
   "source": [
    "#### readline 함수 이용하기"
   ]
  },
  {
   "attachments": {},
   "cell_type": "markdown",
   "metadata": {},
   "source": [
    "첫 번째 방법은 readline 함수를 사용하는 방법이다. 다음 예를 보자."
   ]
  },
  {
   "cell_type": "code",
   "execution_count": 7,
   "metadata": {},
   "outputs": [
    {
     "name": "stdout",
     "output_type": "stream",
     "text": [
      "2번쩨 줄입니다.\n",
      "\n"
     ]
    }
   ],
   "source": [
    "f = open(\"/Users/zetta/Documents/jump_python/기본서/newfile.txt\", \"r\")\n",
    "line = f.readline()\n",
    "print(line)\n",
    "f.close()"
   ]
  },
  {
   "cell_type": "code",
   "execution_count": 8,
   "metadata": {},
   "outputs": [
    {
     "name": "stdout",
     "output_type": "stream",
     "text": [
      "2번쩨 줄입니다.\n",
      "\n",
      "3번쩨 줄입니다.\n",
      "\n",
      "4번쩨 줄입니다.\n",
      "\n",
      "5번쩨 줄입니다.\n",
      "\n",
      "6번쩨 줄입니다.\n",
      "\n",
      "7번쩨 줄입니다.\n",
      "\n",
      "8번쩨 줄입니다.\n",
      "\n",
      "9번쩨 줄입니다.\n",
      "\n",
      "10번쩨 줄입니다.\n",
      "\n",
      "11번쩨 줄입니다.\n",
      "\n",
      "12번쩨 줄입니다.\n",
      "\n",
      "13번쩨 줄입니다.\n",
      "\n",
      "14번쩨 줄입니다.\n",
      "\n",
      "15번쩨 줄입니다.\n",
      "\n",
      "16번쩨 줄입니다.\n",
      "\n",
      "17번쩨 줄입니다.\n",
      "\n",
      "18번쩨 줄입니다.\n",
      "\n",
      "19번쩨 줄입니다.\n",
      "\n",
      "20번쩨 줄입니다.\n",
      "\n"
     ]
    }
   ],
   "source": [
    "f = open(\"/Users/zetta/Documents/jump_python/기본서/newfile.txt\", \"r\")\n",
    "while True:\n",
    "    line = f.readline()\n",
    "    if not line: break\n",
    "    print(line)\n",
    "f.close()"
   ]
  },
  {
   "attachments": {},
   "cell_type": "markdown",
   "metadata": {},
   "source": [
    "즉 while True: 무한 루프 안에서 f.readline()을 사용해 파일을 계속해서 한 줄씩 읽어 들인다.   \n",
    "만약 더 이상 읽을 줄이 없으면 break를 수행한다(readline()은 더 이상 읽을 줄이 없을 경우 빈 문자열('')을 리턴한다)."
   ]
  },
  {
   "attachments": {},
   "cell_type": "markdown",
   "metadata": {},
   "source": [
    "> 한 줄 씩 읽어 출력할 때 줄 끝에 \\n 문자가 있으므로 빈 줄도 같이 출력된다."
   ]
  },
  {
   "attachments": {},
   "cell_type": "markdown",
   "metadata": {},
   "source": [
    "파일을 읽어서 출력하는 예제와 비교해 보자. 입력을 받는 방식만 다르다는 것을 바로 알 수 있을 것이다.     \n",
    "두 번째 예는 키보드를 사용한 입력 방법이고, 첫 번째 예는 파일을 사용한 입력 방법이다.\n",
    "\n"
   ]
  },
  {
   "cell_type": "code",
   "execution_count": 10,
   "metadata": {},
   "outputs": [
    {
     "name": "stdout",
     "output_type": "stream",
     "text": [
      "I\n",
      "love\n",
      "you\n"
     ]
    }
   ],
   "source": [
    "while True:\n",
    "    data = input()\n",
    "    if not data: break\n",
    "    print(data)\n"
   ]
  },
  {
   "cell_type": "code",
   "execution_count": null,
   "metadata": {},
   "outputs": [],
   "source": []
  }
 ],
 "metadata": {
  "kernelspec": {
   "display_name": "base",
   "language": "python",
   "name": "python3"
  },
  "language_info": {
   "codemirror_mode": {
    "name": "ipython",
    "version": 3
   },
   "file_extension": ".py",
   "mimetype": "text/x-python",
   "name": "python",
   "nbconvert_exporter": "python",
   "pygments_lexer": "ipython3",
   "version": "3.9.13"
  },
  "orig_nbformat": 4
 },
 "nbformat": 4,
 "nbformat_minor": 2
}

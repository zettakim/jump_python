{
 "cells": [
  {
   "attachments": {},
   "cell_type": "markdown",
   "metadata": {},
   "source": [
    "## 06-7 파이보\n",
    "파이보는 파이썬 \"질문과 답변\" 게시판 서비스이다.\n",
    "\n",
    ">파이보 (https://pybo.kr)\n",
    "파이썬을 공부하며 이해되지 않는 부분이나 궁금한 점들을 파이보에 질문해 보자. 본인이 정확히 어떤 것을 모르는지 질문을 하는 것만으로도 큰 공부가 될 것이다."
   ]
  },
  {
   "cell_type": "markdown",
   "metadata": {},
   "source": []
  }
 ],
 "metadata": {
  "language_info": {
   "name": "python"
  },
  "orig_nbformat": 4
 },
 "nbformat": 4,
 "nbformat_minor": 2
}
